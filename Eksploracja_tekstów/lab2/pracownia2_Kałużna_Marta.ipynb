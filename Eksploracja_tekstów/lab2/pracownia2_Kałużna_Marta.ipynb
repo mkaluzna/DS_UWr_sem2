{
 "cells": [
  {
   "cell_type": "markdown",
   "metadata": {},
   "source": [
    "# Eksploracja tekstów - Pracownia 2"
   ]
  },
  {
   "cell_type": "markdown",
   "metadata": {},
   "source": [
    "## Zadanie 1"
   ]
  },
  {
   "cell_type": "code",
   "execution_count": 1,
   "metadata": {},
   "outputs": [],
   "source": [
    "import pandas as pd\n",
    "import numpy as np\n",
    "\n",
    "file = open('tokenized_quotes.txt')\n",
    "stopwords_file = open('polish.stopwords.txt')\n",
    "formy_bazowe = pd.read_csv('polimorfologik-2.1.txt', sep = ';', header=None, usecols = [0,1])\n",
    "formy_bazowe.columns = ['baza', 'inne']"
   ]
  },
  {
   "cell_type": "code",
   "execution_count": 2,
   "metadata": {},
   "outputs": [],
   "source": [
    "import re\n",
    "\n",
    "minicytaty = []\n",
    "stopwords = []\n",
    "\n",
    "for line in stopwords_file:\n",
    "    clean_line = line.replace('\\n', '')\n",
    "    stopwords.append(clean_line)\n",
    "\n",
    "for line in file:\n",
    "    clean_line = line.replace('\\n', '')\n",
    "    clean_line = clean_line.replace('& lt ; /br & gt ;', '')\n",
    "    clean_line = clean_line.replace('& lt ; br / & gt ;', '')\n",
    "    clean_line = clean_line.replace('& lt ; br/ & gt ;', '')\n",
    "    clean_line = clean_line.replace('& lt ; br & gt ;', '')\n",
    "    clean_line = clean_line.replace('& lt ;', '')\n",
    "    clean_line = clean_line.replace('& gt ;', '')\n",
    "    clean_line = clean_line.replace('& quot ;', '')\n",
    "    clean_line = clean_line.replace(\"''\", '')\n",
    "    minicytaty.append(clean_line.split('.'))"
   ]
  },
  {
   "cell_type": "markdown",
   "metadata": {},
   "source": [
    "##### Dodatkowe wyrazy, które uważam, że mogą \"psuć\" zapytanie:"
   ]
  },
  {
   "cell_type": "code",
   "execution_count": 3,
   "metadata": {},
   "outputs": [],
   "source": [
    "stopwords.append('to')\n",
    "stopwords.append('czym')\n",
    "stopwords.append('siebie')\n",
    "stopwords.append('kim')"
   ]
  },
  {
   "cell_type": "code",
   "execution_count": 4,
   "metadata": {},
   "outputs": [],
   "source": [
    "minicytaty = [val for sublist in minicytaty for val in sublist] # łączenie w jedną listę\n",
    "minicytaty = list(filter(None, minicytaty)) # usuwanie pustych elementów\n",
    "minicytaty = list(filter(lambda x: x.islower(), minicytaty)) # usuwanie wyrazów, które składają się tylko z cyfr lub znaków interpunkcyjnych\n",
    "minicytaty = [x.split() for x in minicytaty] # lista list, tokenizacja\n",
    "minicytaty = list(np.unique(minicytaty)) # pozbywamy się takich samych cytatów"
   ]
  },
  {
   "cell_type": "markdown",
   "metadata": {},
   "source": [
    "##### Żeby uniknąć cytatów, których znaczenie zależy od kontekstu, znów filtrujemy naszą listę:"
   ]
  },
  {
   "cell_type": "code",
   "execution_count": 5,
   "metadata": {},
   "outputs": [],
   "source": [
    "words = ['on', 'ona', 'go', 'ich', 'jej', 'jego']\n",
    "minicytaty = [cytat for cytat in minicytaty if not any(x in cytat for x in words)]  # zostawiamy tylko te, które nie mają w sobie 'words'"
   ]
  },
  {
   "cell_type": "markdown",
   "metadata": {},
   "source": [
    "##### Cytaty, które zawierają znaki interpunkcyjne (inne niż przecinek lub kropka) są najczęściej dialogami i nie wyglądają dobrze"
   ]
  },
  {
   "cell_type": "code",
   "execution_count": 6,
   "metadata": {},
   "outputs": [],
   "source": [
    "punctuation = [\"'\", \"(\", \")\", \"-\", \"!\", \"[\", \"]\", \"–\", \"\", \"&\", \"?\", \"''\", \":\"]\n",
    "minicytaty = [cytat for cytat in minicytaty if not any(p in cytat for p in punctuation)]"
   ]
  },
  {
   "cell_type": "code",
   "execution_count": 7,
   "metadata": {},
   "outputs": [],
   "source": [
    "minicytaty = [cytat for cytat in minicytaty if len(cytat) <= 30]"
   ]
  },
  {
   "cell_type": "markdown",
   "metadata": {},
   "source": [
    "##### Funkcja pomocnicza, usuwająca stopwords z zapytania (przesiewamy zapytanie, żeby zostawić (najlepiej) głównie rzeczowniki lub/i czasowniki):"
   ]
  },
  {
   "cell_type": "code",
   "execution_count": 8,
   "metadata": {},
   "outputs": [],
   "source": [
    "def stopwords_del(seq, stopwords):\n",
    "    temp_seq = re.split('\\W', seq)\n",
    "    temp_seq = list(filter(None, temp_seq))\n",
    "    idx = []\n",
    "    for i in range(len(temp_seq)):\n",
    "        if temp_seq[i] in stopwords:\n",
    "            idx.append(i)\n",
    "    for i in sorted(idx, reverse = True):\n",
    "        del temp_seq[i]\n",
    "    return(temp_seq)"
   ]
  },
  {
   "cell_type": "code",
   "execution_count": 9,
   "metadata": {},
   "outputs": [],
   "source": [
    "def MCR(baza = minicytaty, stopwords = stopwords, losowanie = True, lematyzacja = False):\n",
    "    print('Jeśli chcesz zakończyć rozmowę z Mistrzem Ciętej Riposty, wpisz \"q\".')\n",
    "    idx = [] # indeksy dotychczasowych odpowiedzi\n",
    "    while True:\n",
    "        quest = input('JA: ').lower()\n",
    "        if quest == 'q':\n",
    "            break\n",
    "        \n",
    "        freq = {} # klucz: indeks, wartość: ile razy wybrano cytat o tym indeksie\n",
    "        probs = {}\n",
    "        \n",
    "        # zostawiamy tylko 'kluczowe' słowa\n",
    "        quest_lst = stopwords_del(quest, stopwords)\n",
    "        #print(quest_lst)\n",
    "        \n",
    "        # to się przyda do porównywania czy odp. nie jest 'kopią' zapytania\n",
    "        quest = re.split('\\W', quest)\n",
    "        quest = list(filter(None, quest))\n",
    "        \n",
    "        # z lematyzacją\n",
    "        if lematyzacja:\n",
    "            for q in quest_lst:\n",
    "                # q -> forma bazowa q -> wszystkie odmiany formy bazowej q\n",
    "                q_odmiany = list(formy_bazowe.loc[formy_bazowe['baza'] == \n",
    "                                                  ''.join(list(formy_bazowe.loc[formy_bazowe['inne']  == q]['baza']))]['inne'])\n",
    "                # jeśli nie ma odmian tego wyrazu:\n",
    "                if len(q_odmiany) == 0:\n",
    "                    q_odmiany = [q]\n",
    "                    \n",
    "                for word in q_odmiany:\n",
    "                    i = 0\n",
    "                    for cytat in baza:\n",
    "                        if word in cytat:\n",
    "                            if i in freq:\n",
    "                                freq[i] += 1\n",
    "                            else:\n",
    "                                freq[i] = 1\n",
    "                        i += 1\n",
    "        else:\n",
    "            for q in quest_lst:\n",
    "                i = 0\n",
    "                for cytat in baza:\n",
    "                    if q in cytat:\n",
    "                        if i in freq:\n",
    "                            freq[i] += 1\n",
    "                        else:\n",
    "                            freq[i] = 1\n",
    "                    i += 1\n",
    "        \n",
    "        sort_freq = {k: v for k, v in sorted(freq.items(), key=lambda item: item[1], reverse=True)}\n",
    "        if len(freq) == 0:\n",
    "            print('MCR: Hmm nie wiem jak Ci na to odpowiedzieć')\n",
    "        \n",
    "        elif losowanie:\n",
    "            s = sum(sort_freq.values())\n",
    "            probs = {k: v/s for k, v in sort_freq.items()}\n",
    "            i = 0\n",
    "            while True:\n",
    "                answer_idx = int(np.random.choice(list(probs), 1, list(probs.values())))\n",
    "                \n",
    "                if (answer_idx not in idx) and (not all(x in baza[answer_idx] for x in quest)):\n",
    "                    print('MCR: ',' '.join(baza[answer_idx]))\n",
    "                    break\n",
    "                    \n",
    "                # jeśli dana odp juz była lub jest w pewnym sensie 'kopią' poprzednika, losujemy jeszcze raz\n",
    "                elif i < 10:\n",
    "                    i += 1\n",
    "                    \n",
    "                else:\n",
    "                    print('MCR: ',' '.join(baza[answer_idx]))\n",
    "                    break\n",
    "        \n",
    "        # bez losowania -> lider wygrywa\n",
    "        else:\n",
    "            j = 0\n",
    "            while True:\n",
    "                answer_idx = list(sort_freq)[j]\n",
    "                \n",
    "                # pilnujemy zeby wypowiedzi w rozmowie się nie powtarzały + żeby odpowiedź nie była podobna do naszego zdania\n",
    "                if (answer_idx not in idx) and (not all(x in baza[answer_idx] for x in quest)):\n",
    "                    print('MCR: ',' '.join(baza[answer_idx]))\n",
    "                    break\n",
    "                \n",
    "                elif j < len(freq) - 1:\n",
    "                    j += 1\n",
    "                    \n",
    "                # ewentualna możliwość na powtórzenie cytatu: wszystkie inne w tym kontekście były już wywołane\n",
    "                else:\n",
    "                    print('MCR: ',' '.join(baza[next(iter(sort_freq))]))\n",
    "                    break\n",
    "            idx.append(answer_idx)"
   ]
  },
  {
   "cell_type": "code",
   "execution_count": 47,
   "metadata": {},
   "outputs": [
    {
     "name": "stdout",
     "output_type": "stream",
     "text": [
      "Jeśli chcesz zakończyć rozmowę z Mistrzem Ciętej Riposty, wpisz \"q\".\n"
     ]
    },
    {
     "name": "stdin",
     "output_type": "stream",
     "text": [
      "JA:  jak dbać o kondycję?\n"
     ]
    },
    {
     "name": "stdout",
     "output_type": "stream",
     "text": [
      "MCR:  coraz więcej aktorów potrafi w zachodni sposób dbać o swoją karierę\n"
     ]
    },
    {
     "name": "stdin",
     "output_type": "stream",
     "text": [
      "JA:  a kondycja?\n"
     ]
    },
    {
     "name": "stdout",
     "output_type": "stream",
     "text": [
      "MCR:  ci , którzy to robią , nie mówią o tym , a ci , którzy o tym mówią , nie robią tego\n"
     ]
    },
    {
     "name": "stdin",
     "output_type": "stream",
     "text": [
      "JA:  cwaniaczki\n"
     ]
    },
    {
     "name": "stdout",
     "output_type": "stream",
     "text": [
      "MCR: Hmm nie wiem jak Ci na to odpowiedzieć\n"
     ]
    },
    {
     "name": "stdin",
     "output_type": "stream",
     "text": [
      "JA:  q\n"
     ]
    }
   ],
   "source": [
    "MCR(losowanie = True, lematyzacja = True)"
   ]
  },
  {
   "cell_type": "code",
   "execution_count": 48,
   "metadata": {},
   "outputs": [
    {
     "name": "stdout",
     "output_type": "stream",
     "text": [
      "Jeśli chcesz zakończyć rozmowę z Mistrzem Ciętej Riposty, wpisz \"q\".\n"
     ]
    },
    {
     "name": "stdin",
     "output_type": "stream",
     "text": [
      "JA:  jak dbać o kondycję?\n"
     ]
    },
    {
     "name": "stdout",
     "output_type": "stream",
     "text": [
      "MCR:  aby dalej ugruntować zdrowie naszego narodu , musimy dbać o wychowanie naszej młodzieży\n"
     ]
    },
    {
     "name": "stdin",
     "output_type": "stream",
     "text": [
      "JA:  q\n"
     ]
    }
   ],
   "source": [
    "MCR(losowanie = False, lematyzacja = False)"
   ]
  },
  {
   "cell_type": "code",
   "execution_count": 11,
   "metadata": {},
   "outputs": [],
   "source": [
    "# def MCR(baza, losowanie = False):\n",
    "#     print('Jeśli chcesz zakończyć rozmowę z Mistrzem Ciętej Riposty, wpisz \"q\".')\n",
    "#     freq = {} # klucz: indeks, wartość: ile razy wybrano cytat o tym indeksie\n",
    "#     while True:\n",
    "#         quest = input('JA: ').lower()\n",
    "#         if quest == 'q':\n",
    "#             break\n",
    "        \n",
    "#         freq = {}\n",
    "#         quest_lst = stopwords_del(quest, stopwords)\n",
    "#         quest_lst = list(filter(None, quest_lst))\n",
    "#         #cytaty_dict = {}\n",
    "# #         for cytat in baza:\n",
    "# #             if all(x in cytat for x in quest_lst): # całe wyrażenie\n",
    "# #                 if ' '.join(quest_lst) in cytaty_dict: # jeśli jest już taki klucz w słowniku\n",
    "# #                     cytaty_dict[' '.join(quest_lst)].append(' '.join(cytat))\n",
    "# #                 else:\n",
    "# #                     cytaty_dict[' '.join(quest_lst)] = [' '.join(cytat)]  \n",
    "                    \n",
    "#         for q in quest_lst:\n",
    "#             i = 0\n",
    "#             for cytat in baza:\n",
    "#                 if q in cytat:\n",
    "# #                     if q in cytaty_dict: # jeśli jest już taki klucz w słowniku\n",
    "# #                         cytaty_dict[q].append(' '.join(cytat))\n",
    "# #                         freq[i] += 1\n",
    "# #                     else:\n",
    "# #                         cytaty_dict[q] = [' '.join(cytat)]\n",
    "# #                         freq[i] = 1\n",
    "#                     if i in freq:\n",
    "#                         freq[i] += 1\n",
    "#                     else:\n",
    "#                         freq[i] = 1\n",
    "#                 i += 1\n",
    "                        \n",
    "#         #cytaty_df = pd.DataFrame([(key, var) for (key, L) in cytaty_dict.items() for var in L], columns = ['term', 'cytat'])\n",
    "#         #cytaty_df.groupby('cytat')\n",
    "        \n",
    "#         # na górze będą wyrazy występujące najczęściej\n",
    "#         #duplicate = cytaty_df[cytaty_df.duplicated(['cytat'])]\n",
    "#         #duplicate[['cytat']]\n",
    "#         sort_freq = {k: v for k, v in sorted(freq.items(), key=lambda item: item[1], reverse=True)}\n",
    "        \n",
    "#         if len(freq) == 0:\n",
    "#             print('MCR: Hmm nie wiem jak Ci na to odpowiedzieć')\n",
    "#         else:\n",
    "#             #duplicateRowsDF[duplicateRowsDF[\"name\"] == \"World\"].tolist()[0]\n",
    "#             #print('MCR: ', duplicate.iloc[0]['cytat'])\n",
    "#             print('MCR: ',' '.join(minicytaty[next(iter(sort_freq))])) # pierwszy klucz ze słownika posortowanego wg wartości\n",
    "        \n",
    "# #         if cytaty_df.shape[0] == 0:\n",
    "# #             print('Hmm nie wiem jak Ci na to odpowiedzieć')\n",
    "# #         else:\n",
    "# #             print('MCR: ', list(cytaty_dict.values())[0][0])"
   ]
  },
  {
   "cell_type": "code",
   "execution_count": 12,
   "metadata": {},
   "outputs": [],
   "source": [
    "#człon = ''.join(list(formy_bazowe.loc[formy_bazowe['inne']  == 'absbd']['baza']))\n",
    "#list(formy_bazowe.loc[formy_bazowe['baza'] == ''.join(list(formy_bazowe.loc[formy_bazowe['inne']  == 'babciu']['baza']))]['inne'])\n",
    "#człon"
   ]
  },
  {
   "cell_type": "code",
   "execution_count": 13,
   "metadata": {},
   "outputs": [],
   "source": [
    "#dict = {1: 2, 3:4}\n",
    "#sum((dict.values()))"
   ]
  },
  {
   "cell_type": "code",
   "execution_count": null,
   "metadata": {},
   "outputs": [],
   "source": []
  }
 ],
 "metadata": {
  "kernelspec": {
   "display_name": "Python 3",
   "language": "python",
   "name": "python3"
  },
  "language_info": {
   "codemirror_mode": {
    "name": "ipython",
    "version": 3
   },
   "file_extension": ".py",
   "mimetype": "text/x-python",
   "name": "python",
   "nbconvert_exporter": "python",
   "pygments_lexer": "ipython3",
   "version": "3.7.3"
  }
 },
 "nbformat": 4,
 "nbformat_minor": 4
}
