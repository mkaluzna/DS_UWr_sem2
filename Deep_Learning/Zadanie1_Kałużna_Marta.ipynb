{
 "cells": [
  {
   "cell_type": "markdown",
   "metadata": {
    "colab_type": "text",
    "id": "2gkohc1BOSR3"
   },
   "source": [
    "# Warsztaty: Deep Learning\n",
    "## Zadanie 1\n",
    "###### Marta Kałużna"
   ]
  },
  {
   "cell_type": "code",
   "execution_count": 1,
   "metadata": {
    "colab": {
     "base_uri": "https://localhost:8080/",
     "height": 52
    },
    "colab_type": "code",
    "id": "s2Y6gBBEOVGF",
    "outputId": "fda8ff38-464a-4371-f3a9-4be7c56b8b3e"
   },
   "outputs": [
    {
     "name": "stdout",
     "output_type": "stream",
     "text": [
      "TensorFlow 2.x selected.\n",
      "2.1.0\n"
     ]
    }
   ],
   "source": [
    "# %tensorflow_version 2.x - switch only for Google Colab notebook\n",
    "%tensorflow_version 2.x\n",
    "\n",
    "import tensorflow as tf\n",
    "print(tf.__version__)"
   ]
  },
  {
   "cell_type": "code",
   "execution_count": 2,
   "metadata": {
    "colab": {
     "base_uri": "https://localhost:8080/",
     "height": 34
    },
    "colab_type": "code",
    "id": "ENqUvrA6OoDv",
    "outputId": "14234697-d92d-4355-b904-4d8642c78e49"
   },
   "outputs": [
    {
     "name": "stderr",
     "output_type": "stream",
     "text": [
      "Using TensorFlow backend.\n"
     ]
    }
   ],
   "source": [
    "from tensorflow import keras\n",
    "from keras import datasets\n",
    "import numpy as np"
   ]
  },
  {
   "cell_type": "markdown",
   "metadata": {
    "colab_type": "text",
    "id": "jrqgl6Pmd4-a"
   },
   "source": [
    "Fashion MNIST dataset"
   ]
  },
  {
   "cell_type": "code",
   "execution_count": null,
   "metadata": {
    "colab": {},
    "colab_type": "code",
    "id": "dRaCOHrsPCg9"
   },
   "outputs": [],
   "source": [
    "fashion_mnist = keras.datasets.fashion_mnist"
   ]
  },
  {
   "cell_type": "code",
   "execution_count": null,
   "metadata": {
    "colab": {},
    "colab_type": "code",
    "id": "fg1lHEFpT5VW"
   },
   "outputs": [],
   "source": [
    "(X_train, y_train), (X_test, y_test) = fashion_mnist.load_data() # training set, test set"
   ]
  },
  {
   "cell_type": "code",
   "execution_count": 5,
   "metadata": {
    "colab": {
     "base_uri": "https://localhost:8080/",
     "height": 34
    },
    "colab_type": "code",
    "id": "s-1ZOglaQUpt",
    "outputId": "c82ae61c-1490-4b7b-aada-2530bc8c652d"
   },
   "outputs": [
    {
     "data": {
      "text/plain": [
       "(60000, 28, 28)"
      ]
     },
     "execution_count": 5,
     "metadata": {
      "tags": []
     },
     "output_type": "execute_result"
    }
   ],
   "source": [
    "X_train.shape"
   ]
  },
  {
   "cell_type": "code",
   "execution_count": 6,
   "metadata": {
    "colab": {
     "base_uri": "https://localhost:8080/",
     "height": 34
    },
    "colab_type": "code",
    "id": "txmJJAczQnIp",
    "outputId": "aed13fe8-74b3-467b-88c3-b6e78c2aab8d"
   },
   "outputs": [
    {
     "data": {
      "text/plain": [
       "60000"
      ]
     },
     "execution_count": 6,
     "metadata": {
      "tags": []
     },
     "output_type": "execute_result"
    }
   ],
   "source": [
    "len(y_train)"
   ]
  },
  {
   "cell_type": "code",
   "execution_count": 7,
   "metadata": {
    "colab": {
     "base_uri": "https://localhost:8080/",
     "height": 34
    },
    "colab_type": "code",
    "id": "pXqX93T2SeVD",
    "outputId": "489d1556-053c-46db-c3b6-bb502c31b2bd"
   },
   "outputs": [
    {
     "data": {
      "text/plain": [
       "array([9, 0, 0, ..., 3, 0, 5], dtype=uint8)"
      ]
     },
     "execution_count": 7,
     "metadata": {
      "tags": []
     },
     "output_type": "execute_result"
    }
   ],
   "source": [
    "y_train"
   ]
  },
  {
   "cell_type": "code",
   "execution_count": 8,
   "metadata": {
    "colab": {
     "base_uri": "https://localhost:8080/",
     "height": 34
    },
    "colab_type": "code",
    "id": "c0EiwETmSheZ",
    "outputId": "53fd50fe-495e-4e9b-8b30-139d689d1af3"
   },
   "outputs": [
    {
     "data": {
      "text/plain": [
       "array([0, 1, 2, 3, 4, 5, 6, 7, 8, 9], dtype=uint8)"
      ]
     },
     "execution_count": 8,
     "metadata": {
      "tags": []
     },
     "output_type": "execute_result"
    }
   ],
   "source": [
    "np.unique(y_train)"
   ]
  },
  {
   "cell_type": "code",
   "execution_count": 9,
   "metadata": {
    "colab": {
     "base_uri": "https://localhost:8080/",
     "height": 34
    },
    "colab_type": "code",
    "id": "tN6tKHC_RxmN",
    "outputId": "253df971-5640-4f68-9c61-24232da0c2b7"
   },
   "outputs": [
    {
     "data": {
      "text/plain": [
       "(60000, 784)"
      ]
     },
     "execution_count": 9,
     "metadata": {
      "tags": []
     },
     "output_type": "execute_result"
    }
   ],
   "source": [
    "X_train = X_train.reshape((-1, 28*28))\n",
    "X_train.shape"
   ]
  },
  {
   "cell_type": "code",
   "execution_count": null,
   "metadata": {
    "colab": {},
    "colab_type": "code",
    "id": "6BMlfFveRZNu"
   },
   "outputs": [],
   "source": [
    "X_train = X_train/255.0\n",
    "X_test = X_test/255"
   ]
  },
  {
   "cell_type": "code",
   "execution_count": 11,
   "metadata": {
    "colab": {
     "base_uri": "https://localhost:8080/",
     "height": 156
    },
    "colab_type": "code",
    "id": "5SqmpVUQR12K",
    "outputId": "a5238c31-ea13-4fcb-bbed-23173f51493c"
   },
   "outputs": [
    {
     "name": "stdout",
     "output_type": "stream",
     "text": [
      "tf.Tensor(\n",
      "[[0. 0. 0. ... 0. 0. 0.]\n",
      " [0. 0. 0. ... 0. 0. 0.]\n",
      " [0. 0. 0. ... 0. 0. 0.]\n",
      " ...\n",
      " [0. 0. 0. ... 0. 0. 0.]\n",
      " [0. 0. 0. ... 0. 0. 0.]\n",
      " [0. 0. 0. ... 0. 0. 0.]], shape=(60000, 784), dtype=float32)\n"
     ]
    }
   ],
   "source": [
    "X_train = tf.convert_to_tensor(X_train, dtype = float)\n",
    "print(X_train)"
   ]
  },
  {
   "cell_type": "code",
   "execution_count": 12,
   "metadata": {
    "colab": {
     "base_uri": "https://localhost:8080/",
     "height": 34
    },
    "colab_type": "code",
    "id": "reWUiCcLSwvn",
    "outputId": "6fcc53e5-d34f-436e-bfa9-af7456e06b5d"
   },
   "outputs": [
    {
     "name": "stdout",
     "output_type": "stream",
     "text": [
      "tf.Tensor([9 0 0 ... 3 0 5], shape=(60000,), dtype=uint8)\n"
     ]
    }
   ],
   "source": [
    "y_train = tf.convert_to_tensor(y_train)\n",
    "print(y_train)"
   ]
  },
  {
   "cell_type": "code",
   "execution_count": 13,
   "metadata": {
    "colab": {
     "base_uri": "https://localhost:8080/",
     "height": 34
    },
    "colab_type": "code",
    "id": "GzAQcL3RUF0d",
    "outputId": "164bd261-783b-4da6-8c46-a02a20886ab4"
   },
   "outputs": [
    {
     "name": "stdout",
     "output_type": "stream",
     "text": [
      "(60000, 784) (60000,)\n"
     ]
    }
   ],
   "source": [
    "print(X_train.shape, y_train.shape)"
   ]
  },
  {
   "cell_type": "code",
   "execution_count": null,
   "metadata": {
    "colab": {},
    "colab_type": "code",
    "id": "ef1J7dkYWGfs"
   },
   "outputs": [],
   "source": [
    "tf.random.set_seed(12345)\n",
    "\n",
    "W1 = tf.Variable(tf.random.normal((784, 1000)))\n",
    "b1 = tf.Variable(tf.random.normal((1000,)))\n",
    "\n",
    "W2 = tf.Variable(tf.random.normal((1000, 100)))\n",
    "b2 = tf.Variable(tf.random.normal((100,)))\n",
    "\n",
    "W3 = tf.Variable(tf.random.normal((100, 50)))\n",
    "b3 = tf.Variable(tf.random.normal((50,)))\n",
    "\n",
    "W4 = tf.Variable(tf.random.normal((50, 10)))\n",
    "b4 = tf.Variable(tf.random.normal((10,)))"
   ]
  },
  {
   "cell_type": "markdown",
   "metadata": {
    "colab_type": "text",
    "id": "q3bjzo3mWv7O"
   },
   "source": [
    "Forward propagation"
   ]
  },
  {
   "cell_type": "code",
   "execution_count": null,
   "metadata": {
    "colab": {},
    "colab_type": "code",
    "id": "gv-8GDEqWxZ0"
   },
   "outputs": [],
   "source": [
    "def forward_propagation(X, W1, b1, W2, b2, W3, b3, W4, b4):\n",
    "    A0 = X\n",
    "\n",
    "    Z1 = tf.matmul(A0, W1) + b1\n",
    "    A1 = tf.tanh(Z1)\n",
    "\n",
    "    Z2 = tf.matmul(A1, W2) + b2\n",
    "    A2 = tf.tanh(Z2)\n",
    "\n",
    "    Z3 = tf.matmul(A2, W3) + b3\n",
    "    A3 = tf.tanh(Z3)\n",
    "\n",
    "    Z4 = tf.matmul(A3, W4) + b4\n",
    "    A4 = tf.nn.softmax(Z4)\n",
    "\n",
    "    y_hat = A4\n",
    "    return Z4, y_hat # logits, softmax"
   ]
  },
  {
   "cell_type": "code",
   "execution_count": 16,
   "metadata": {
    "colab": {
     "base_uri": "https://localhost:8080/",
     "height": 503
    },
    "colab_type": "code",
    "id": "KGZaQgjDa8ls",
    "outputId": "ad5c9191-8194-40bf-8d9d-895e1f909cd4"
   },
   "outputs": [
    {
     "data": {
      "text/plain": [
       "(<tf.Tensor: shape=(60000, 10), dtype=float32, numpy=\n",
       " array([[ 14.4709015 ,   7.601225  ,  -5.8585067 , ...,  -3.3783667 ,\n",
       "           5.461572  ,   6.441334  ],\n",
       "        [ -8.397575  ,   2.4900904 ,   5.5836616 , ...,  -1.568797  ,\n",
       "          -7.911801  ,  -9.143809  ],\n",
       "        [  1.2973833 ,  -3.8241618 ,  -5.3570547 , ...,  -1.6864058 ,\n",
       "          -5.1438284 , -11.589508  ],\n",
       "        ...,\n",
       "        [  0.48657715,  -0.12495065, -15.358458  , ...,  -0.85546327,\n",
       "          -1.1798108 ,  -7.570033  ],\n",
       "        [ -6.1302495 ,  -5.596167  ,   2.4881506 , ...,  -9.005307  ,\n",
       "          -5.0038934 ,  -1.6769586 ],\n",
       "        [ -9.3058815 ,   1.8453324 ,  -5.712049  , ...,  -8.247258  ,\n",
       "          -4.4375167 ,   8.906017  ]], dtype=float32)>,\n",
       " <tf.Tensor: shape=(60000, 10), dtype=float32, numpy=\n",
       " array([[9.38825727e-01, 9.75264411e-04, 1.39198642e-09, ...,\n",
       "         1.66244156e-08, 1.14784489e-04, 3.05765192e-04],\n",
       "        [2.24642775e-08, 1.20211381e-03, 2.65134629e-02, ...,\n",
       "         2.07583635e-05, 3.65142050e-08, 1.06514211e-08],\n",
       "        [1.10207948e-05, 6.57587975e-08, 1.41980010e-08, ...,\n",
       "         5.57660144e-07, 1.75723649e-08, 2.78937914e-11],\n",
       "        ...,\n",
       "        [1.21017343e-04, 6.56545235e-05, 1.59014590e-11, ...,\n",
       "         3.16232872e-05, 2.28636054e-05, 3.83624474e-08],\n",
       "        [1.57239017e-04, 2.68231233e-04, 8.69929612e-01, ...,\n",
       "         8.87031092e-06, 4.84987744e-04, 1.35082835e-02],\n",
       "        [5.20183507e-10, 3.62299324e-05, 1.89207707e-08, ...,\n",
       "         1.49937840e-09, 6.76801264e-08, 4.22166847e-02]], dtype=float32)>)"
      ]
     },
     "execution_count": 16,
     "metadata": {
      "tags": []
     },
     "output_type": "execute_result"
    }
   ],
   "source": [
    "forward_propagation(X_train, W1, b1, W2, b2, W3, b3, W4, b4)"
   ]
  },
  {
   "cell_type": "markdown",
   "metadata": {
    "colab_type": "text",
    "id": "zjlm3CheYgLg"
   },
   "source": [
    "Loss function"
   ]
  },
  {
   "cell_type": "code",
   "execution_count": null,
   "metadata": {
    "colab": {},
    "colab_type": "code",
    "id": "i5PONrefX31y"
   },
   "outputs": [],
   "source": [
    "def loss(X, Y, W1, b1, W2, b2, W3, b3, W4, b4):\n",
    "\n",
    "    Z4, y_hat = forward_propagation(X, W1, b1, W2, b2, W3, b3, W4, b4)\n",
    "\n",
    "    return tf.reduce_mean(\n",
    "        tf.nn.softmax_cross_entropy_with_logits(labels = tf.one_hot(Y, depth=10), logits = Z4)\n",
    "    )"
   ]
  },
  {
   "cell_type": "code",
   "execution_count": 18,
   "metadata": {
    "colab": {
     "base_uri": "https://localhost:8080/",
     "height": 34
    },
    "colab_type": "code",
    "id": "NhTElqZqa-Dz",
    "outputId": "d745d929-db54-4383-d79a-79dfc342e68f"
   },
   "outputs": [
    {
     "data": {
      "text/plain": [
       "<tf.Tensor: shape=(), dtype=float32, numpy=10.646508>"
      ]
     },
     "execution_count": 18,
     "metadata": {
      "tags": []
     },
     "output_type": "execute_result"
    }
   ],
   "source": [
    "loss(X_train, y_train, W1, b1, W2, b2, W3, b3, W4, b4)"
   ]
  },
  {
   "cell_type": "markdown",
   "metadata": {
    "colab_type": "text",
    "id": "vhbmMrbYeCkf"
   },
   "source": [
    "GD"
   ]
  },
  {
   "cell_type": "code",
   "execution_count": null,
   "metadata": {
    "colab": {},
    "colab_type": "code",
    "id": "v7O_4xL5e85w"
   },
   "outputs": [],
   "source": [
    "with tf.GradientTape() as gradient_tape:\n",
    "    L = loss(X_train, y_train, W1, b1, W2, b2, W3, b3, W4, b4)\n",
    "dW1, db1, dW2, db2, dW3, db3, dW4, db4 = gradient_tape.gradient(L, [W1, b1, W2, b2, W3, b3, W4, b4])"
   ]
  },
  {
   "cell_type": "code",
   "execution_count": 20,
   "metadata": {
    "colab": {
     "base_uri": "https://localhost:8080/",
     "height": 34
    },
    "colab_type": "code",
    "id": "jBSFJ5rLfTwH",
    "outputId": "2644d2fb-e71a-430d-e188-4477100436c3"
   },
   "outputs": [
    {
     "data": {
      "text/plain": [
       "<tf.Tensor: shape=(), dtype=float32, numpy=9.882531>"
      ]
     },
     "execution_count": 20,
     "metadata": {
      "tags": []
     },
     "output_type": "execute_result"
    }
   ],
   "source": [
    "alpha = tf.constant(0.1, dtype=float)\n",
    "\n",
    "W1.assign_sub(alpha * dW1)\n",
    "W2.assign_sub(alpha * dW2)\n",
    "W3.assign_sub(alpha * dW3)\n",
    "W4.assign_sub(alpha * dW4)\n",
    "\n",
    "b1.assign_sub(alpha * db1)\n",
    "b2.assign_sub(alpha * db2)\n",
    "b3.assign_sub(alpha * db3)\n",
    "b4.assign_sub(alpha * db4)\n",
    "\n",
    "loss(X_train, y_train, W1, b1, W2, b2, W3, b3, W4, b4)"
   ]
  },
  {
   "cell_type": "code",
   "execution_count": 21,
   "metadata": {
    "colab": {
     "base_uri": "https://localhost:8080/",
     "height": 364
    },
    "colab_type": "code",
    "id": "KDOqraLqgUy8",
    "outputId": "e902f845-c8e8-44c5-be2a-4d07904f65b1"
   },
   "outputs": [
    {
     "name": "stdout",
     "output_type": "stream",
     "text": [
      "Step   1/ 20 : loss = 9.88253\n",
      "Step   2/ 20 : loss = 9.25274\n",
      "Step   3/ 20 : loss = 8.73621\n",
      "Step   4/ 20 : loss = 8.28123\n",
      "Step   5/ 20 : loss = 7.89297\n",
      "Step   6/ 20 : loss = 7.56822\n",
      "Step   7/ 20 : loss = 7.28979\n",
      "Step   8/ 20 : loss = 7.04243\n",
      "Step   9/ 20 : loss = 6.81435\n",
      "Step  10/ 20 : loss = 6.60302\n",
      "Step  11/ 20 : loss = 6.40360\n",
      "Step  12/ 20 : loss = 6.21553\n",
      "Step  13/ 20 : loss = 6.04096\n",
      "Step  14/ 20 : loss = 5.87850\n",
      "Step  15/ 20 : loss = 5.72794\n",
      "Step  16/ 20 : loss = 5.58878\n",
      "Step  17/ 20 : loss = 5.46037\n",
      "Step  18/ 20 : loss = 5.33877\n",
      "Step  19/ 20 : loss = 5.22537\n",
      "Step  20/ 20 : loss = 5.11652\n"
     ]
    }
   ],
   "source": [
    "epochs = 20\n",
    "\n",
    "for i in range(epochs):\n",
    "    with tf.GradientTape() as gradient_tape:\n",
    "        L = loss(X_train, y_train, W1, b1, W2, b2, W3, b3, W4, b4)\n",
    "    dW1, db1, dW2, db2, dW3, db3, dW4, db4 = gradient_tape.gradient(L, [W1, b1, W2, b2, W3, b3, W4, b4])\n",
    "    W1.assign_sub(alpha * dW1)\n",
    "    W2.assign_sub(alpha * dW2)\n",
    "    W3.assign_sub(alpha * dW3)\n",
    "    W4.assign_sub(alpha * dW4)\n",
    "\n",
    "    b1.assign_sub(alpha * db1)\n",
    "    b2.assign_sub(alpha * db2)\n",
    "    b3.assign_sub(alpha * db3)\n",
    "    b4.assign_sub(alpha * db4)\n",
    "\n",
    "\n",
    "    print(\"Step {:3d}/{:3d} : loss = {:.5f}\".format(i+1, epochs, L))"
   ]
  },
  {
   "cell_type": "markdown",
   "metadata": {
    "colab_type": "text",
    "id": "-_hgQYqqm-Sx"
   },
   "source": [
    "Prediction"
   ]
  },
  {
   "cell_type": "code",
   "execution_count": 22,
   "metadata": {
    "colab": {
     "base_uri": "https://localhost:8080/",
     "height": 34
    },
    "colab_type": "code",
    "id": "XTbU9-9Eit3G",
    "outputId": "742892ba-f6c8-46fd-95eb-52d542644f49"
   },
   "outputs": [
    {
     "data": {
      "text/plain": [
       "(10000, 28, 28)"
      ]
     },
     "execution_count": 22,
     "metadata": {
      "tags": []
     },
     "output_type": "execute_result"
    }
   ],
   "source": [
    "X_test.shape"
   ]
  },
  {
   "cell_type": "code",
   "execution_count": null,
   "metadata": {
    "colab": {},
    "colab_type": "code",
    "id": "tv9jHGv7i7ke"
   },
   "outputs": [],
   "source": [
    "X_test = X_test.reshape((-1, 28*28))\n",
    "X_test = tf.convert_to_tensor(X_test, dtype = float)\n",
    "y_test = tf.convert_to_tensor(y_test)"
   ]
  },
  {
   "cell_type": "code",
   "execution_count": null,
   "metadata": {
    "colab": {},
    "colab_type": "code",
    "id": "lG_EJtmJjX8Y"
   },
   "outputs": [],
   "source": [
    "Z4, y_hat = forward_propagation(X_test, W1, b1, W2, b2, W3, b3, W4, b4)"
   ]
  },
  {
   "cell_type": "code",
   "execution_count": 25,
   "metadata": {
    "colab": {
     "base_uri": "https://localhost:8080/",
     "height": 260
    },
    "colab_type": "code",
    "id": "1ZHAOueijvsR",
    "outputId": "3e95ca8d-7a7b-4456-f01b-ac012ed21ae2"
   },
   "outputs": [
    {
     "data": {
      "text/plain": [
       "<tf.Tensor: shape=(10000, 10), dtype=float32, numpy=\n",
       "array([[3.38741302e-06, 1.40142165e-05, 3.75460018e-04, ...,\n",
       "        4.38619310e-08, 1.01197736e-06, 3.23421809e-05],\n",
       "       [1.56303827e-06, 3.15188970e-07, 6.92416279e-07, ...,\n",
       "        4.81260986e-06, 9.70943570e-02, 3.13441946e-11],\n",
       "       [8.36174763e-07, 1.65359378e-02, 2.45935627e-08, ...,\n",
       "        2.49400341e-06, 1.73773333e-05, 6.54969824e-07],\n",
       "       ...,\n",
       "       [4.16963436e-02, 2.80411854e-08, 1.61888875e-05, ...,\n",
       "        1.34483507e-05, 3.35094121e-08, 1.10767678e-06],\n",
       "       [2.00931751e-07, 9.99572814e-01, 1.75186016e-12, ...,\n",
       "        3.77276677e-07, 6.14945009e-07, 3.28224080e-11],\n",
       "       [5.38976394e-07, 3.75861440e-08, 1.22556392e-08, ...,\n",
       "        6.89329505e-02, 9.60805977e-04, 2.66941206e-05]], dtype=float32)>"
      ]
     },
     "execution_count": 25,
     "metadata": {
      "tags": []
     },
     "output_type": "execute_result"
    }
   ],
   "source": [
    "y_hat"
   ]
  },
  {
   "cell_type": "code",
   "execution_count": null,
   "metadata": {
    "colab": {},
    "colab_type": "code",
    "id": "agiISo5jmjDr"
   },
   "outputs": [],
   "source": [
    "prediction = tf.math.argmax(y_hat, 1)"
   ]
  },
  {
   "cell_type": "code",
   "execution_count": 27,
   "metadata": {
    "colab": {
     "base_uri": "https://localhost:8080/",
     "height": 52
    },
    "colab_type": "code",
    "id": "hVeR3Mx5ms0Y",
    "outputId": "3201b6d2-c0f0-4693-c2a7-9b25ab167f3c"
   },
   "outputs": [
    {
     "data": {
      "text/plain": [
       "(<tf.Tensor: shape=(10000,), dtype=int64, numpy=array([6, 4, 3, ..., 6, 1, 5])>,\n",
       " <tf.Tensor: shape=(10000,), dtype=uint8, numpy=array([9, 2, 1, ..., 8, 1, 5], dtype=uint8)>)"
      ]
     },
     "execution_count": 27,
     "metadata": {
      "tags": []
     },
     "output_type": "execute_result"
    }
   ],
   "source": [
    "prediction, y_test"
   ]
  },
  {
   "cell_type": "markdown",
   "metadata": {
    "colab_type": "text",
    "id": "TkgMw0JAp-15"
   },
   "source": [
    "Accuracy"
   ]
  },
  {
   "cell_type": "code",
   "execution_count": 28,
   "metadata": {
    "colab": {
     "base_uri": "https://localhost:8080/",
     "height": 34
    },
    "colab_type": "code",
    "id": "QBanXXTinyqS",
    "outputId": "b6ed83d6-2c60-44bd-8418-849f74ca6479"
   },
   "outputs": [
    {
     "data": {
      "text/plain": [
       "<tf.Tensor: shape=(10000,), dtype=bool, numpy=array([False, False, False, ..., False,  True,  True])>"
      ]
     },
     "execution_count": 28,
     "metadata": {
      "tags": []
     },
     "output_type": "execute_result"
    }
   ],
   "source": [
    "results = tf.equal(prediction, tf.cast(y_test, dtype='int64'))\n",
    "results"
   ]
  },
  {
   "cell_type": "code",
   "execution_count": 29,
   "metadata": {
    "colab": {
     "base_uri": "https://localhost:8080/",
     "height": 34
    },
    "colab_type": "code",
    "id": "hVL5srCGoB06",
    "outputId": "752c3a14-8fab-4192-c0bf-738dd1a14de8"
   },
   "outputs": [
    {
     "name": "stdout",
     "output_type": "stream",
     "text": [
      "0.2682\n"
     ]
    }
   ],
   "source": [
    "accuracy = tf.reduce_mean(tf.cast(results, dtype = 'float32'))\n",
    "print(accuracy.numpy())"
   ]
  }
 ],
 "metadata": {
  "colab": {
   "collapsed_sections": [],
   "name": "Zadanie1_Kałużna_Marta.ipynb",
   "provenance": []
  },
  "kernelspec": {
   "display_name": "Python 3",
   "language": "python",
   "name": "python3"
  },
  "language_info": {
   "codemirror_mode": {
    "name": "ipython",
    "version": 3
   },
   "file_extension": ".py",
   "mimetype": "text/x-python",
   "name": "python",
   "nbconvert_exporter": "python",
   "pygments_lexer": "ipython3",
   "version": "3.7.3"
  }
 },
 "nbformat": 4,
 "nbformat_minor": 4
}
