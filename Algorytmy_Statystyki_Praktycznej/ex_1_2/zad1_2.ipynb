{
 "cells": [
  {
   "cell_type": "markdown",
   "metadata": {},
   "source": [
    "# Algorytmy statystyki praktycznej"
   ]
  },
  {
   "cell_type": "markdown",
   "metadata": {},
   "source": [
    "#### Marta Kałużna"
   ]
  },
  {
   "cell_type": "markdown",
   "metadata": {},
   "source": [
    "\n",
    "### Zadanie 1"
   ]
  },
  {
   "cell_type": "code",
   "execution_count": 1,
   "metadata": {},
   "outputs": [],
   "source": [
    "import numpy as np\n",
    "import pandas as pd \n",
    "import matplotlib.pyplot as plt\n",
    "import pandas as pd"
   ]
  },
  {
   "cell_type": "markdown",
   "metadata": {},
   "source": [
    "#### Proximal gradient"
   ]
  },
  {
   "cell_type": "code",
   "execution_count": 2,
   "metadata": {},
   "outputs": [],
   "source": [
    "# funkcja pomocnicza\n",
    "def soft_thresh(mu, x):\n",
    "    if x > mu:\n",
    "        return x - mu\n",
    "    elif x < -mu:\n",
    "        return x + mu\n",
    "    else:\n",
    "        return 0\n",
    "\n",
    "\n",
    "def prox_grad(X, Y, beta, alpha = 0.0005, lambd = 1, num_iter = 150, scale = False):\n",
    "    \n",
    "    loss_prox = []\n",
    "    mu = lambd * alpha\n",
    "    n = X.shape[0]\n",
    "    \n",
    "    for i in range(num_iter):\n",
    "        #print(beta)\n",
    "        abs_sum = np.sum([abs(b) for b in beta])\n",
    "        if not scale:\n",
    "            loss = np.sum((Y - X @ beta)**2) + lambd * abs_sum\n",
    "        # zmniejszenie wartości przyda się do zadania 2\n",
    "        else:\n",
    "            loss = np.sum((Y - X @ beta)**2)/n + lambd * abs_sum\n",
    "            \n",
    "        loss_prox.append(loss)\n",
    "        \n",
    "        beta = beta - alpha * X.T @ (X @ beta - Y)\n",
    "        beta = [soft_thresh(mu, b) for b in beta]\n",
    "    \n",
    "        if i % 5 == 0:\n",
    "            print('Iter: {}, Loss: {}'.format(i, loss))\n",
    "        \n",
    "    return loss_prox, beta"
   ]
  },
  {
   "cell_type": "code",
   "execution_count": 3,
   "metadata": {},
   "outputs": [],
   "source": [
    "n = 100\n",
    "d = 25\n",
    "np.random.seed(10)\n",
    "X = np.random.multivariate_normal([0.0]*d, np.eye(d), size = n)\n",
    "w = np.random.randn(d)\n",
    "beta = np.random.randn(d)\n",
    "Y = X @ w"
   ]
  },
  {
   "cell_type": "code",
   "execution_count": 4,
   "metadata": {},
   "outputs": [
    {
     "name": "stdout",
     "output_type": "stream",
     "text": [
      "Iter: 0, Loss: 3706.10548453169\n",
      "Iter: 5, Loss: 2325.1304237024196\n",
      "Iter: 10, Loss: 1531.242216778392\n",
      "Iter: 15, Loss: 1055.581922696467\n",
      "Iter: 20, Loss: 758.7984972521353\n",
      "Iter: 25, Loss: 564.5992156205334\n",
      "Iter: 30, Loss: 432.529030249655\n",
      "Iter: 35, Loss: 339.79712437971034\n",
      "Iter: 40, Loss: 272.6690136876476\n",
      "Iter: 45, Loss: 222.67900811656315\n",
      "Iter: 50, Loss: 184.61233193765995\n",
      "Iter: 55, Loss: 155.07511712678073\n",
      "Iter: 60, Loss: 132.02817656688876\n",
      "Iter: 65, Loss: 113.59913889011445\n",
      "Iter: 70, Loss: 98.69843490093642\n",
      "Iter: 75, Loss: 86.5433379508014\n",
      "Iter: 80, Loss: 76.55509522174971\n",
      "Iter: 85, Loss: 68.29750203846433\n",
      "Iter: 90, Loss: 61.532047303747106\n",
      "Iter: 95, Loss: 56.07063616657959\n",
      "Iter: 100, Loss: 51.49979146749272\n",
      "Iter: 105, Loss: 47.659224570529844\n",
      "Iter: 110, Loss: 44.43492934982737\n",
      "Iter: 115, Loss: 41.73821788514474\n",
      "Iter: 120, Loss: 39.454354476686476\n",
      "Iter: 125, Loss: 37.515942707839436\n",
      "Iter: 130, Loss: 35.867699513524364\n",
      "Iter: 135, Loss: 34.46394550848042\n",
      "Iter: 140, Loss: 33.26671951991016\n",
      "Iter: 145, Loss: 32.24432934791268\n"
     ]
    },
    {
     "data": {
      "text/plain": [
       "Text(0, 0.5, 'Loss')"
      ]
     },
     "execution_count": 4,
     "metadata": {},
     "output_type": "execute_result"
    },
    {
     "data": {
      "image/png": "[encoded data removed]",
      "text/plain": [
       "<Figure size 432x288 with 1 Axes>"
      ]
     },
     "metadata": {
      "needs_background": "light"
     },
     "output_type": "display_data"
    }
   ],
   "source": [
    "loss_prox = prox_grad(X, Y, beta)[0]\n",
    "\n",
    "plt.plot(np.arange(len(loss_prox)), loss_prox, 'b', label = 'Proximal gradient')\n",
    "plt.legend(prop = {'size':12})\n",
    "plt.xlabel('Iteration')\n",
    "plt.ylabel('Loss')"
   ]
  },
  {
   "cell_type": "markdown",
   "metadata": {},
   "source": [
    "#### Przyspieszenie Nesterova dla proximal gradient"
   ]
  },
  {
   "cell_type": "code",
   "execution_count": 5,
   "metadata": {},
   "outputs": [],
   "source": [
    "def nesterov(X, Y, beta, alpha = 0.0005, lambd = 1, num_iter = 150, scale = False):\n",
    "\n",
    "    loss_nest = []\n",
    "    \n",
    "    b = beta.copy()\n",
    "    mu = alpha * lambd\n",
    "    n = X.shape[0]\n",
    "    for i in range(num_iter):\n",
    "        abs_sum = np.sum([abs(b) for b in beta])\n",
    "        if not scale:\n",
    "            loss = np.sum((Y - X @ beta)**2) + lambd * abs_sum\n",
    "        # zmniejszenie wartości przyda się do zadania 2\n",
    "        else:\n",
    "            loss = np.sum((Y - X @ beta)**2)/n + lambd * abs_sum\n",
    "        loss_nest.append(loss)\n",
    "        \n",
    "        beta_old = beta.copy()\n",
    "        b = b - alpha * X.T @ (X @ b - Y)\n",
    "        beta = np.array([soft_thresh(mu, val) for val in b])\n",
    "        b = beta + i/(i+3) * (beta - beta_old)\n",
    "\n",
    "        if i % 5 == 0:\n",
    "            print('Iter: {}, Loss: {}'.format(i, loss))\n",
    "    \n",
    "    return loss_nest, beta"
   ]
  },
  {
   "cell_type": "code",
   "execution_count": 6,
   "metadata": {},
   "outputs": [],
   "source": [
    "n = 100\n",
    "d = 25\n",
    "np.random.seed(10)\n",
    "X = np.random.multivariate_normal([0.0]*d, np.eye(d), size = n)\n",
    "w = np.random.randn(d)\n",
    "beta = np.random.randn(d)\n",
    "Y = X @ w"
   ]
  },
  {
   "cell_type": "code",
   "execution_count": 7,
   "metadata": {},
   "outputs": [
    {
     "name": "stdout",
     "output_type": "stream",
     "text": [
      "Iter: 0, Loss: 3706.10548453169\n",
      "Iter: 5, Loss: 2023.14416666631\n",
      "Iter: 10, Loss: 729.5970881945393\n",
      "Iter: 15, Loss: 235.59306574101413\n",
      "Iter: 20, Loss: 91.59796425624839\n",
      "Iter: 25, Loss: 42.88889677463387\n",
      "Iter: 30, Loss: 30.36063347486025\n",
      "Iter: 35, Loss: 30.422349067100782\n",
      "Iter: 40, Loss: 30.959219826886617\n",
      "Iter: 45, Loss: 29.14690452073421\n",
      "Iter: 50, Loss: 26.976396159294726\n",
      "Iter: 55, Loss: 26.302710119647877\n",
      "Iter: 60, Loss: 26.79904123481127\n",
      "Iter: 65, Loss: 27.120608147234027\n",
      "Iter: 70, Loss: 26.792036055147758\n",
      "Iter: 75, Loss: 26.24319718811234\n",
      "Iter: 80, Loss: 25.941695623377612\n",
      "Iter: 85, Loss: 25.924854987103064\n",
      "Iter: 90, Loss: 25.974294263758498\n",
      "Iter: 95, Loss: 25.964231441388606\n",
      "Iter: 100, Loss: 25.928689235916753\n",
      "Iter: 105, Loss: 25.939320181869455\n",
      "Iter: 110, Loss: 26.00390365733501\n",
      "Iter: 115, Loss: 26.058712706407103\n",
      "Iter: 120, Loss: 26.045082085269545\n",
      "Iter: 125, Loss: 25.977014397143446\n",
      "Iter: 130, Loss: 25.915070849861948\n",
      "Iter: 135, Loss: 25.892855304940152\n",
      "Iter: 140, Loss: 25.896027765177283\n",
      "Iter: 145, Loss: 25.900878912883424\n"
     ]
    },
    {
     "data": {
      "text/plain": [
       "Text(0, 0.5, 'Loss')"
      ]
     },
     "execution_count": 7,
     "metadata": {},
     "output_type": "execute_result"
    },
    {
     "data": {
      "image/png": "[encoded data removed]",
      "text/plain": [
       "<Figure size 432x288 with 1 Axes>"
      ]
     },
     "metadata": {
      "needs_background": "light"
     },
     "output_type": "display_data"
    }
   ],
   "source": [
    "loss_nest = nesterov(X, Y, beta)[0]\n",
    "\n",
    "plt.plot(np.arange(len(loss_nest)), loss_nest, 'g', label = 'Nesterov')\n",
    "plt.plot(np.arange(len(loss_prox)), loss_prox, 'b', label = 'Proximal gradient')\n",
    "plt.legend(prop = {'size':12})\n",
    "plt.xlabel('Iteration')\n",
    "plt.ylabel('Loss')"
   ]
  },
  {
   "cell_type": "markdown",
   "metadata": {},
   "source": [
    "#### ADMM"
   ]
  },
  {
   "cell_type": "code",
   "execution_count": 8,
   "metadata": {},
   "outputs": [],
   "source": [
    "def ADMM(X, Y, beta, lambd = 1, rho = 100, num_iter = 150, scale = False):\n",
    "    \n",
    "    n, d = X.shape\n",
    "    alpha = np.array([0] * d)\n",
    "    w = np.array([0]*d)\n",
    "    left = np.linalg.inv(X.T @ X + rho*np.identity(d))\n",
    "    loss_admm = []\n",
    "    \n",
    "    for i in range(num_iter):\n",
    "        abs_sum = np.sum([abs(a) for a in alpha])\n",
    "        if not scale:\n",
    "            loss = np.sum((Y - X @ beta)**2) + lambd * abs_sum\n",
    "        # zmniejszenie wartości przyda się do zadania 2\n",
    "        else:\n",
    "            loss = np.sum((Y - X @ beta)**2)/n + lambd * abs_sum\n",
    "        loss_admm.append(loss)\n",
    "        \n",
    "        beta = left @ (X.T @ Y + rho * (alpha - w))\n",
    "        vec = beta + w\n",
    "        alpha = [soft_thresh(lambd/rho, x) for x in vec]\n",
    "        w = w + beta - alpha\n",
    "        \n",
    "        if i % 5 == 0:\n",
    "            print('Iter: {}, Loss: {}'.format(i, loss))\n",
    " \n",
    "    return loss_admm, beta"
   ]
  },
  {
   "cell_type": "code",
   "execution_count": 9,
   "metadata": {},
   "outputs": [],
   "source": [
    "n = 100\n",
    "d = 25\n",
    "np.random.seed(10)\n",
    "X = np.random.multivariate_normal([0.0]*d, np.eye(d), size = n)\n",
    "w = np.random.randn(d)\n",
    "beta = np.random.randn(d)\n",
    "Y = X @ w"
   ]
  },
  {
   "cell_type": "code",
   "execution_count": 10,
   "metadata": {},
   "outputs": [
    {
     "name": "stdout",
     "output_type": "stream",
     "text": [
      "Iter: 0, Loss: 3685.5819837716103\n",
      "Iter: 5, Loss: 56.2225709788281\n",
      "Iter: 10, Loss: 27.6044255625168\n",
      "Iter: 15, Loss: 26.09233593989247\n",
      "Iter: 20, Loss: 25.94663067882387\n",
      "Iter: 25, Loss: 25.923198399575636\n",
      "Iter: 30, Loss: 25.91828864357364\n",
      "Iter: 35, Loss: 25.917145891576293\n",
      "Iter: 40, Loss: 25.916867572370876\n",
      "Iter: 45, Loss: 25.916798099687334\n",
      "Iter: 50, Loss: 25.916780475434866\n",
      "Iter: 55, Loss: 25.916775950566365\n",
      "Iter: 60, Loss: 25.9167747776824\n",
      "Iter: 65, Loss: 25.916774471167887\n",
      "Iter: 70, Loss: 25.916774390466866\n",
      "Iter: 75, Loss: 25.916774369065898\n",
      "Iter: 80, Loss: 25.916774363349013\n",
      "Iter: 85, Loss: 25.916774361810123\n",
      "Iter: 90, Loss: 25.916774361392484\n",
      "Iter: 95, Loss: 25.91677436127815\n",
      "Iter: 100, Loss: 25.916774361246556\n",
      "Iter: 105, Loss: 25.916774361237742\n",
      "Iter: 110, Loss: 25.91677436123525\n",
      "Iter: 115, Loss: 25.91677436123455\n",
      "Iter: 120, Loss: 25.916774361234342\n",
      "Iter: 125, Loss: 25.916774361234282\n",
      "Iter: 130, Loss: 25.91677436123426\n",
      "Iter: 135, Loss: 25.916774361234257\n",
      "Iter: 140, Loss: 25.91677436123426\n",
      "Iter: 145, Loss: 25.91677436123426\n"
     ]
    },
    {
     "data": {
      "text/plain": [
       "Text(0, 0.5, 'Loss')"
      ]
     },
     "execution_count": 10,
     "metadata": {},
     "output_type": "execute_result"
    },
    {
     "data": {
      "image/png": "[encoded data removed]",
      "text/plain": [
       "<Figure size 432x288 with 1 Axes>"
      ]
     },
     "metadata": {
      "needs_background": "light"
     },
     "output_type": "display_data"
    }
   ],
   "source": [
    "loss_admm = ADMM(X, Y, beta)[0]\n",
    "\n",
    "plt.plot(np.arange(len(loss_admm)), loss_admm, 'r', label = 'ADMM')\n",
    "plt.plot(np.arange(len(loss_nest)), loss_nest, 'g', label = 'Nesterov')\n",
    "plt.plot(np.arange(len(loss_prox)), loss_prox, 'b', label = 'Proximal gradient')\n",
    "plt.legend(prop = {'size':12})\n",
    "plt.xlabel('Iteration')\n",
    "plt.ylabel('Loss')"
   ]
  },
  {
   "cell_type": "markdown",
   "metadata": {},
   "source": [
    "**Źródła z których skorzystałam:**       \n",
    "- http://niaohe.ise.illinois.edu/IE598_2016/pdf/IE598-lecture19-proximal%20gradient%20method%20and%20its%20acceleration.pdf\n",
    "- https://www.stat.cmu.edu/~ryantibs/convexopt-F18/lectures/admm.pdf\n",
    "- https://web.stanford.edu/~boyd/papers/pdf/admm_slides.pdf"
   ]
  },
  {
   "cell_type": "markdown",
   "metadata": {},
   "source": [
    "### Zadanie 2"
   ]
  },
  {
   "cell_type": "code",
   "execution_count": 11,
   "metadata": {},
   "outputs": [
    {
     "data": {
      "text/html": [
       "<div>\n",
       "<style scoped>\n",
       "    .dataframe tbody tr th:only-of-type {\n",
       "        vertical-align: middle;\n",
       "    }\n",
       "\n",
       "    .dataframe tbody tr th {\n",
       "        vertical-align: top;\n",
       "    }\n",
       "\n",
       "    .dataframe thead th {\n",
       "        text-align: right;\n",
       "    }\n",
       "</style>\n",
       "<table border=\"1\" class=\"dataframe\">\n",
       "  <thead>\n",
       "    <tr style=\"text-align: right;\">\n",
       "      <th></th>\n",
       "      <th>id</th>\n",
       "      <th>date</th>\n",
       "      <th>price</th>\n",
       "      <th>bedrooms</th>\n",
       "      <th>bathrooms</th>\n",
       "      <th>sqft_living</th>\n",
       "      <th>sqft_lot</th>\n",
       "      <th>floors</th>\n",
       "      <th>waterfront</th>\n",
       "      <th>view</th>\n",
       "      <th>...</th>\n",
       "      <th>grade</th>\n",
       "      <th>sqft_above</th>\n",
       "      <th>sqft_basement</th>\n",
       "      <th>yr_built</th>\n",
       "      <th>yr_renovated</th>\n",
       "      <th>zipcode</th>\n",
       "      <th>lat</th>\n",
       "      <th>long</th>\n",
       "      <th>sqft_living15</th>\n",
       "      <th>sqft_lot15</th>\n",
       "    </tr>\n",
       "  </thead>\n",
       "  <tbody>\n",
       "    <tr>\n",
       "      <th>0</th>\n",
       "      <td>7129300520</td>\n",
       "      <td>20141013T000000</td>\n",
       "      <td>221900.0</td>\n",
       "      <td>3</td>\n",
       "      <td>1.00</td>\n",
       "      <td>1180</td>\n",
       "      <td>5650</td>\n",
       "      <td>1.0</td>\n",
       "      <td>0</td>\n",
       "      <td>0</td>\n",
       "      <td>...</td>\n",
       "      <td>7</td>\n",
       "      <td>1180</td>\n",
       "      <td>0</td>\n",
       "      <td>1955</td>\n",
       "      <td>0</td>\n",
       "      <td>98178</td>\n",
       "      <td>47.5112</td>\n",
       "      <td>-122.257</td>\n",
       "      <td>1340</td>\n",
       "      <td>5650</td>\n",
       "    </tr>\n",
       "    <tr>\n",
       "      <th>1</th>\n",
       "      <td>6414100192</td>\n",
       "      <td>20141209T000000</td>\n",
       "      <td>538000.0</td>\n",
       "      <td>3</td>\n",
       "      <td>2.25</td>\n",
       "      <td>2570</td>\n",
       "      <td>7242</td>\n",
       "      <td>2.0</td>\n",
       "      <td>0</td>\n",
       "      <td>0</td>\n",
       "      <td>...</td>\n",
       "      <td>7</td>\n",
       "      <td>2170</td>\n",
       "      <td>400</td>\n",
       "      <td>1951</td>\n",
       "      <td>1991</td>\n",
       "      <td>98125</td>\n",
       "      <td>47.7210</td>\n",
       "      <td>-122.319</td>\n",
       "      <td>1690</td>\n",
       "      <td>7639</td>\n",
       "    </tr>\n",
       "    <tr>\n",
       "      <th>2</th>\n",
       "      <td>5631500400</td>\n",
       "      <td>20150225T000000</td>\n",
       "      <td>180000.0</td>\n",
       "      <td>2</td>\n",
       "      <td>1.00</td>\n",
       "      <td>770</td>\n",
       "      <td>10000</td>\n",
       "      <td>1.0</td>\n",
       "      <td>0</td>\n",
       "      <td>0</td>\n",
       "      <td>...</td>\n",
       "      <td>6</td>\n",
       "      <td>770</td>\n",
       "      <td>0</td>\n",
       "      <td>1933</td>\n",
       "      <td>0</td>\n",
       "      <td>98028</td>\n",
       "      <td>47.7379</td>\n",
       "      <td>-122.233</td>\n",
       "      <td>2720</td>\n",
       "      <td>8062</td>\n",
       "    </tr>\n",
       "    <tr>\n",
       "      <th>3</th>\n",
       "      <td>2487200875</td>\n",
       "      <td>20141209T000000</td>\n",
       "      <td>604000.0</td>\n",
       "      <td>4</td>\n",
       "      <td>3.00</td>\n",
       "      <td>1960</td>\n",
       "      <td>5000</td>\n",
       "      <td>1.0</td>\n",
       "      <td>0</td>\n",
       "      <td>0</td>\n",
       "      <td>...</td>\n",
       "      <td>7</td>\n",
       "      <td>1050</td>\n",
       "      <td>910</td>\n",
       "      <td>1965</td>\n",
       "      <td>0</td>\n",
       "      <td>98136</td>\n",
       "      <td>47.5208</td>\n",
       "      <td>-122.393</td>\n",
       "      <td>1360</td>\n",
       "      <td>5000</td>\n",
       "    </tr>\n",
       "    <tr>\n",
       "      <th>4</th>\n",
       "      <td>1954400510</td>\n",
       "      <td>20150218T000000</td>\n",
       "      <td>510000.0</td>\n",
       "      <td>3</td>\n",
       "      <td>2.00</td>\n",
       "      <td>1680</td>\n",
       "      <td>8080</td>\n",
       "      <td>1.0</td>\n",
       "      <td>0</td>\n",
       "      <td>0</td>\n",
       "      <td>...</td>\n",
       "      <td>8</td>\n",
       "      <td>1680</td>\n",
       "      <td>0</td>\n",
       "      <td>1987</td>\n",
       "      <td>0</td>\n",
       "      <td>98074</td>\n",
       "      <td>47.6168</td>\n",
       "      <td>-122.045</td>\n",
       "      <td>1800</td>\n",
       "      <td>7503</td>\n",
       "    </tr>\n",
       "  </tbody>\n",
       "</table>\n",
       "<p>5 rows × 21 columns</p>\n",
       "</div>"
      ],
      "text/plain": [
       "           id             date     price  bedrooms  bathrooms  sqft_living  \\\n",
       "0  7129300520  20141013T000000  221900.0         3       1.00         1180   \n",
       "1  6414100192  20141209T000000  538000.0         3       2.25         2570   \n",
       "2  5631500400  20150225T000000  180000.0         2       1.00          770   \n",
       "3  2487200875  20141209T000000  604000.0         4       3.00         1960   \n",
       "4  1954400510  20150218T000000  510000.0         3       2.00         1680   \n",
       "\n",
       "   sqft_lot  floors  waterfront  view  ...  grade  sqft_above  sqft_basement  \\\n",
       "0      5650     1.0           0     0  ...      7        1180              0   \n",
       "1      7242     2.0           0     0  ...      7        2170            400   \n",
       "2     10000     1.0           0     0  ...      6         770              0   \n",
       "3      5000     1.0           0     0  ...      7        1050            910   \n",
       "4      8080     1.0           0     0  ...      8        1680              0   \n",
       "\n",
       "   yr_built  yr_renovated  zipcode      lat     long  sqft_living15  \\\n",
       "0      1955             0    98178  47.5112 -122.257           1340   \n",
       "1      1951          1991    98125  47.7210 -122.319           1690   \n",
       "2      1933             0    98028  47.7379 -122.233           2720   \n",
       "3      1965             0    98136  47.5208 -122.393           1360   \n",
       "4      1987             0    98074  47.6168 -122.045           1800   \n",
       "\n",
       "   sqft_lot15  \n",
       "0        5650  \n",
       "1        7639  \n",
       "2        8062  \n",
       "3        5000  \n",
       "4        7503  \n",
       "\n",
       "[5 rows x 21 columns]"
      ]
     },
     "execution_count": 11,
     "metadata": {},
     "output_type": "execute_result"
    }
   ],
   "source": [
    "df = pd.read_csv(\"kc_house_data.csv\")\n",
    "df.head()"
   ]
  },
  {
   "cell_type": "code",
   "execution_count": 12,
   "metadata": {},
   "outputs": [
    {
     "data": {
      "text/plain": [
       "Index(['id', 'date', 'price', 'bedrooms', 'bathrooms', 'sqft_living',\n",
       "       'sqft_lot', 'floors', 'waterfront', 'view', 'condition', 'grade',\n",
       "       'sqft_above', 'sqft_basement', 'yr_built', 'yr_renovated', 'zipcode',\n",
       "       'lat', 'long', 'sqft_living15', 'sqft_lot15'],\n",
       "      dtype='object')"
      ]
     },
     "execution_count": 12,
     "metadata": {},
     "output_type": "execute_result"
    }
   ],
   "source": [
    "df.columns"
   ]
  },
  {
   "cell_type": "code",
   "execution_count": 13,
   "metadata": {},
   "outputs": [],
   "source": [
    "Y = df['price'].values\n",
    "X = df.drop(['id', 'date', 'price', 'zipcode'], axis=1)"
   ]
  },
  {
   "cell_type": "code",
   "execution_count": 14,
   "metadata": {},
   "outputs": [],
   "source": [
    "X = X.fillna(0)\n",
    "X = X.replace(-np.inf, 0)"
   ]
  },
  {
   "cell_type": "code",
   "execution_count": 15,
   "metadata": {},
   "outputs": [],
   "source": [
    "from sklearn.preprocessing import StandardScaler\n",
    "\n",
    "ss = StandardScaler()\n",
    "X_scaled = ss.fit_transform(X)\n",
    "Y = np.log(Y)"
   ]
  },
  {
   "cell_type": "code",
   "execution_count": 16,
   "metadata": {},
   "outputs": [],
   "source": [
    "X_scaled_df = pd.DataFrame(X_scaled)\n",
    "X_scaled_df.insert(0, 'intercept', 1)"
   ]
  },
  {
   "cell_type": "code",
   "execution_count": 17,
   "metadata": {},
   "outputs": [],
   "source": [
    "Xnp = X_scaled_df.values"
   ]
  },
  {
   "cell_type": "code",
   "execution_count": 18,
   "metadata": {},
   "outputs": [
    {
     "data": {
      "text/plain": [
       "(21613, 18)"
      ]
     },
     "execution_count": 18,
     "metadata": {},
     "output_type": "execute_result"
    }
   ],
   "source": [
    "Xnp.shape"
   ]
  },
  {
   "cell_type": "markdown",
   "metadata": {},
   "source": [
    "##### Proximal gradient"
   ]
  },
  {
   "cell_type": "code",
   "execution_count": 19,
   "metadata": {
    "collapsed": true,
    "jupyter": {
     "outputs_hidden": true
    }
   },
   "outputs": [
    {
     "name": "stdout",
     "output_type": "stream",
     "text": [
      "Iter: 0, Loss: 171.3896520842297\n",
      "Iter: 5, Loss: 167.73271144141472\n",
      "Iter: 10, Loss: 164.25058067997483\n",
      "Iter: 15, Loss: 160.88530027003156\n",
      "Iter: 20, Loss: 157.63024241687046\n",
      "Iter: 25, Loss: 154.47934624149744\n",
      "Iter: 30, Loss: 151.42706121257538\n",
      "Iter: 35, Loss: 148.4682964557321\n",
      "Iter: 40, Loss: 145.59837532354595\n",
      "Iter: 45, Loss: 142.81299467438325\n",
      "Iter: 50, Loss: 140.12756186114598\n",
      "Iter: 55, Loss: 137.5538078929629\n",
      "Iter: 60, Loss: 135.0510157837126\n",
      "Iter: 65, Loss: 132.6161808245954\n",
      "Iter: 70, Loss: 130.24651608643507\n",
      "Iter: 75, Loss: 127.93943160819583\n",
      "Iter: 80, Loss: 125.69251573498018\n",
      "Iter: 85, Loss: 123.5035183797496\n",
      "Iter: 90, Loss: 121.37033600679365\n",
      "Iter: 95, Loss: 119.29099815624623\n",
      "Iter: 100, Loss: 117.26365534798308\n",
      "Iter: 105, Loss: 115.28656822026133\n",
      "Iter: 110, Loss: 113.35809777369799\n",
      "Iter: 115, Loss: 111.47669660481054\n",
      "Iter: 120, Loss: 109.64090102553787\n",
      "Iter: 125, Loss: 107.84932397606603\n",
      "Iter: 130, Loss: 106.10064864804241\n",
      "Iter: 135, Loss: 104.3936227439921\n",
      "Iter: 140, Loss: 102.7270533065593\n",
      "Iter: 145, Loss: 101.0998020581853\n",
      "Iter: 150, Loss: 99.51078119808288\n",
      "Iter: 155, Loss: 97.95894960896162\n",
      "Iter: 160, Loss: 96.44499428568727\n",
      "Iter: 165, Loss: 94.97976279427505\n",
      "Iter: 170, Loss: 93.54862795296309\n",
      "Iter: 175, Loss: 92.1507013155521\n",
      "Iter: 180, Loss: 90.78512740630153\n",
      "Iter: 185, Loss: 89.45108160297514\n",
      "Iter: 190, Loss: 88.14776821265521\n",
      "Iter: 195, Loss: 86.87441872067372\n",
      "Iter: 200, Loss: 85.6302901950672\n",
      "Iter: 205, Loss: 84.41466383080216\n",
      "Iter: 210, Loss: 83.22684361966549\n",
      "Iter: 215, Loss: 82.06615513318772\n",
      "Iter: 220, Loss: 80.93194440728612\n",
      "Iter: 225, Loss: 79.82357691849396\n",
      "Iter: 230, Loss: 78.74043664269819\n",
      "Iter: 235, Loss: 77.68192518825322\n",
      "Iter: 240, Loss: 76.64746099618242\n",
      "Iter: 245, Loss: 75.63647860093683\n",
      "Iter: 250, Loss: 74.64842794585667\n",
      "Iter: 255, Loss: 73.6827737480876\n",
      "Iter: 260, Loss: 72.73899490824529\n",
      "Iter: 265, Loss: 71.81658396060737\n",
      "Iter: 270, Loss: 70.91504656004639\n",
      "Iter: 275, Loss: 70.03390100230536\n",
      "Iter: 280, Loss: 69.17267777456611\n",
      "Iter: 285, Loss: 68.33091913357221\n",
      "Iter: 290, Loss: 67.50817870884545\n",
      "Iter: 295, Loss: 66.70402112878732\n",
      "Iter: 300, Loss: 65.91802166767735\n",
      "Iter: 305, Loss: 65.14976591178255\n",
      "Iter: 310, Loss: 64.39884944297022\n",
      "Iter: 315, Loss: 63.66487753837714\n",
      "Iter: 320, Loss: 62.947464884832286\n",
      "Iter: 325, Loss: 62.24623530685821\n",
      "Iter: 330, Loss: 61.56082150719251\n",
      "Iter: 335, Loss: 60.890864818873254\n",
      "Iter: 340, Loss: 60.236014968025856\n",
      "Iter: 345, Loss: 59.5959298465709\n",
      "Iter: 350, Loss: 58.970275294147854\n",
      "Iter: 355, Loss: 58.358724888615555\n",
      "Iter: 360, Loss: 57.76798177439491\n",
      "Iter: 365, Loss: 57.19662874410788\n",
      "Iter: 370, Loss: 56.63815416143738\n",
      "Iter: 375, Loss: 56.092268004088425\n",
      "Iter: 380, Loss: 55.55868680941178\n",
      "Iter: 385, Loss: 55.037133515827676\n",
      "Iter: 390, Loss: 54.52733730925565\n",
      "Iter: 395, Loss: 54.02903347427471\n",
      "Iter: 400, Loss: 53.54196324976202\n",
      "Iter: 405, Loss: 53.06587368877979\n",
      "Iter: 410, Loss: 52.60051752249992\n",
      "Iter: 415, Loss: 52.14565302797266\n",
      "Iter: 420, Loss: 51.70104389956187\n",
      "Iter: 425, Loss: 51.26645912388321\n",
      "Iter: 430, Loss: 50.84167285809421\n",
      "Iter: 435, Loss: 50.42646431139698\n",
      "Iter: 440, Loss: 50.02061762962428\n",
      "Iter: 445, Loss: 49.62392178278863\n",
      "Iter: 450, Loss: 49.23617045548333\n",
      "Iter: 455, Loss: 48.85716194003129\n",
      "Iter: 460, Loss: 48.48669903228434\n",
      "Iter: 465, Loss: 48.12458892998201\n",
      "Iter: 470, Loss: 47.77064313358473\n",
      "Iter: 475, Loss: 47.42467734950077\n",
      "Iter: 480, Loss: 47.086511395631504\n",
      "Iter: 485, Loss: 46.75596910916363\n",
      "Iter: 490, Loss: 46.43287825654036\n",
      "Iter: 495, Loss: 46.11707044554808\n"
     ]
    }
   ],
   "source": [
    "np.random.seed(10)\n",
    "beta = np.random.randn(18)\n",
    "loss_prox = prox_grad(Xnp, Y, beta, lambd = 2, alpha = 0.0000001, num_iter = 500, scale = True)[0]"
   ]
  },
  {
   "cell_type": "code",
   "execution_count": 20,
   "metadata": {},
   "outputs": [
    {
     "data": {
      "text/plain": [
       "Text(0, 0.5, 'Loss')"
      ]
     },
     "execution_count": 20,
     "metadata": {},
     "output_type": "execute_result"
    },
    {
     "data": {
      "image/png": "[encoded data removed]",
      "text/plain": [
       "<Figure size 432x288 with 1 Axes>"
      ]
     },
     "metadata": {
      "needs_background": "light"
     },
     "output_type": "display_data"
    }
   ],
   "source": [
    "plt.plot(np.arange(len(loss_prox)), loss_prox, 'b', label = 'Proximal gradient')\n",
    "plt.legend(prop = {'size':12})\n",
    "plt.xlabel('Iteration')\n",
    "plt.ylabel('Loss')"
   ]
  },
  {
   "cell_type": "markdown",
   "metadata": {},
   "source": [
    "##### Nesterov"
   ]
  },
  {
   "cell_type": "code",
   "execution_count": 21,
   "metadata": {
    "collapsed": true,
    "jupyter": {
     "outputs_hidden": true
    }
   },
   "outputs": [
    {
     "name": "stdout",
     "output_type": "stream",
     "text": [
      "Iter: 0, Loss: 171.3896520842297\n",
      "Iter: 5, Loss: 166.6711025421384\n",
      "Iter: 10, Loss: 158.20979075352753\n",
      "Iter: 15, Loss: 146.61743102149774\n",
      "Iter: 20, Loss: 133.09528741459468\n",
      "Iter: 25, Loss: 118.5327128854586\n",
      "Iter: 30, Loss: 103.67025691502135\n",
      "Iter: 35, Loss: 89.29700756852864\n",
      "Iter: 40, Loss: 76.0172786213945\n",
      "Iter: 45, Loss: 64.31782587947305\n",
      "Iter: 50, Loss: 54.587165568413006\n",
      "Iter: 55, Loss: 46.82322855499174\n",
      "Iter: 60, Loss: 41.07283824808134\n",
      "Iter: 65, Loss: 37.258801386137904\n",
      "Iter: 70, Loss: 35.21957661046877\n",
      "Iter: 75, Loss: 34.41622316757184\n",
      "Iter: 80, Loss: 34.465946518053535\n",
      "Iter: 85, Loss: 35.09673968773756\n",
      "Iter: 90, Loss: 35.940725521391556\n",
      "Iter: 95, Loss: 36.79074413339872\n",
      "Iter: 100, Loss: 37.35859985441204\n",
      "Iter: 105, Loss: 37.579849933546306\n",
      "Iter: 110, Loss: 37.43329659277011\n",
      "Iter: 115, Loss: 36.91064671596234\n",
      "Iter: 120, Loss: 36.14986458624336\n",
      "Iter: 125, Loss: 35.17707522977561\n",
      "Iter: 130, Loss: 34.120860066611456\n",
      "Iter: 135, Loss: 33.07426201002781\n",
      "Iter: 140, Loss: 32.13348194519544\n",
      "Iter: 145, Loss: 31.293517455966082\n",
      "Iter: 150, Loss: 30.565037607077677\n",
      "Iter: 155, Loss: 29.957477696472424\n",
      "Iter: 160, Loss: 29.552650178649767\n",
      "Iter: 165, Loss: 29.250111940771713\n",
      "Iter: 170, Loss: 29.17129463886205\n",
      "Iter: 175, Loss: 29.14253311881411\n",
      "Iter: 180, Loss: 29.1701630252278\n",
      "Iter: 185, Loss: 29.227565400541\n",
      "Iter: 190, Loss: 29.314101094643004\n",
      "Iter: 195, Loss: 29.441222092506663\n",
      "Iter: 200, Loss: 29.621282200492974\n",
      "Iter: 205, Loss: 29.835605389658987\n",
      "Iter: 210, Loss: 30.06651051492692\n",
      "Iter: 215, Loss: 30.304047359929786\n",
      "Iter: 220, Loss: 30.535614876524342\n",
      "Iter: 225, Loss: 30.769071829921693\n",
      "Iter: 230, Loss: 30.990435656088447\n",
      "Iter: 235, Loss: 31.165105702028704\n",
      "Iter: 240, Loss: 31.2972265136972\n",
      "Iter: 245, Loss: 31.362240597108237\n",
      "Iter: 250, Loss: 31.364529555320058\n",
      "Iter: 255, Loss: 31.317057508985847\n",
      "Iter: 260, Loss: 31.218148781963766\n",
      "Iter: 265, Loss: 31.082097214058997\n",
      "Iter: 270, Loss: 30.93732541194227\n",
      "Iter: 275, Loss: 30.77719993464709\n",
      "Iter: 280, Loss: 30.612408481681246\n",
      "Iter: 285, Loss: 30.451681217817548\n",
      "Iter: 290, Loss: 30.327218922718234\n",
      "Iter: 295, Loss: 30.21681616499087\n",
      "Iter: 300, Loss: 30.121272652795398\n",
      "Iter: 305, Loss: 30.040906167666108\n",
      "Iter: 310, Loss: 29.97553586277766\n",
      "Iter: 315, Loss: 29.924915119162545\n",
      "Iter: 320, Loss: 29.894387708755023\n",
      "Iter: 325, Loss: 29.888585343882482\n",
      "Iter: 330, Loss: 29.89687853305581\n",
      "Iter: 335, Loss: 29.918406582068403\n",
      "Iter: 340, Loss: 29.951839996116554\n",
      "Iter: 345, Loss: 29.99517808351949\n",
      "Iter: 350, Loss: 30.045645780522747\n",
      "Iter: 355, Loss: 30.099724095626932\n",
      "Iter: 360, Loss: 30.15332164847032\n",
      "Iter: 365, Loss: 30.202070040152282\n",
      "Iter: 370, Loss: 30.256404566712206\n",
      "Iter: 375, Loss: 30.294651846425623\n",
      "Iter: 380, Loss: 30.31357178325309\n",
      "Iter: 385, Loss: 30.31783377622725\n",
      "Iter: 390, Loss: 30.302653585052507\n",
      "Iter: 395, Loss: 30.276775801352446\n",
      "Iter: 400, Loss: 30.233202383286116\n",
      "Iter: 405, Loss: 30.17326025688391\n",
      "Iter: 410, Loss: 30.10098344165992\n",
      "Iter: 415, Loss: 30.02126479675328\n",
      "Iter: 420, Loss: 29.95650984289998\n",
      "Iter: 425, Loss: 29.89695087062075\n",
      "Iter: 430, Loss: 29.84224061364035\n",
      "Iter: 435, Loss: 29.79524896119509\n",
      "Iter: 440, Loss: 29.76612504497849\n",
      "Iter: 445, Loss: 29.749232873124253\n",
      "Iter: 450, Loss: 29.74484121176933\n",
      "Iter: 455, Loss: 29.75311269618768\n",
      "Iter: 460, Loss: 29.773727719626745\n",
      "Iter: 465, Loss: 29.80590894913765\n",
      "Iter: 470, Loss: 29.848427697106196\n",
      "Iter: 475, Loss: 29.905275361137058\n",
      "Iter: 480, Loss: 29.968831178437533\n",
      "Iter: 485, Loss: 30.035680985201676\n",
      "Iter: 490, Loss: 30.102824175723107\n",
      "Iter: 495, Loss: 30.167198501157966\n"
     ]
    }
   ],
   "source": [
    "np.random.seed(10)\n",
    "beta = np.random.randn(18)\n",
    "loss_nest = nesterov(Xnp, Y, beta, lambd = 2, alpha = 0.0000001, num_iter = 500, scale = True)[0]"
   ]
  },
  {
   "cell_type": "code",
   "execution_count": 22,
   "metadata": {},
   "outputs": [
    {
     "data": {
      "text/plain": [
       "Text(0, 0.5, 'Loss')"
      ]
     },
     "execution_count": 22,
     "metadata": {},
     "output_type": "execute_result"
    },
    {
     "data": {
      "image/png": "[encoded data removed]",
      "text/plain": [
       "<Figure size 432x288 with 1 Axes>"
      ]
     },
     "metadata": {
      "needs_background": "light"
     },
     "output_type": "display_data"
    }
   ],
   "source": [
    "plt.plot(np.arange(len(loss_nest)), loss_nest, 'g', label = 'Nesterov')\n",
    "plt.plot(np.arange(len(loss_prox)), loss_prox, 'b', label = 'Proximal gradient')\n",
    "plt.legend(prop = {'size':12})\n",
    "plt.xlabel('Iteration')\n",
    "plt.ylabel('Loss')"
   ]
  },
  {
   "cell_type": "markdown",
   "metadata": {},
   "source": [
    "##### ADMM"
   ]
  },
  {
   "cell_type": "code",
   "execution_count": 23,
   "metadata": {
    "collapsed": true,
    "jupyter": {
     "outputs_hidden": true
    }
   },
   "outputs": [
    {
     "name": "stdout",
     "output_type": "stream",
     "text": [
      "Iter: 0, Loss: 149.24978597700746\n",
      "Iter: 5, Loss: 27.67083153300177\n",
      "Iter: 10, Loss: 27.911470175179474\n",
      "Iter: 15, Loss: 27.990345025730615\n",
      "Iter: 20, Loss: 27.98679636085985\n",
      "Iter: 25, Loss: 28.01114697151012\n",
      "Iter: 30, Loss: 28.041247258087694\n",
      "Iter: 35, Loss: 28.040681016656666\n",
      "Iter: 40, Loss: 28.040855167070248\n",
      "Iter: 45, Loss: 28.040805471798283\n",
      "Iter: 50, Loss: 28.040818661278767\n",
      "Iter: 55, Loss: 28.04081543494049\n",
      "Iter: 60, Loss: 28.040816142591133\n",
      "Iter: 65, Loss: 28.04081601369468\n",
      "Iter: 70, Loss: 28.040816027702647\n",
      "Iter: 75, Loss: 28.04081603028404\n",
      "Iter: 80, Loss: 28.04081602777911\n",
      "Iter: 85, Loss: 28.040816028933076\n",
      "Iter: 90, Loss: 28.040816028505418\n",
      "Iter: 95, Loss: 28.04081602864603\n",
      "Iter: 100, Loss: 28.040816028603658\n",
      "Iter: 105, Loss: 28.04081602861565\n",
      "Iter: 110, Loss: 28.04081602861241\n",
      "Iter: 115, Loss: 28.040816028613037\n",
      "Iter: 120, Loss: 28.04081602861298\n",
      "Iter: 125, Loss: 28.040816028613264\n",
      "Iter: 130, Loss: 28.040816028613037\n",
      "Iter: 135, Loss: 28.04081602861315\n",
      "Iter: 140, Loss: 28.040816028613037\n",
      "Iter: 145, Loss: 28.04081602861315\n",
      "Iter: 150, Loss: 28.04081602861298\n",
      "Iter: 155, Loss: 28.04081602861332\n",
      "Iter: 160, Loss: 28.04081602861298\n",
      "Iter: 165, Loss: 28.040816028613207\n",
      "Iter: 170, Loss: 28.040816028612866\n",
      "Iter: 175, Loss: 28.040816028613207\n",
      "Iter: 180, Loss: 28.04081602861298\n",
      "Iter: 185, Loss: 28.04081602861315\n",
      "Iter: 190, Loss: 28.040816028613094\n",
      "Iter: 195, Loss: 28.04081602861315\n",
      "Iter: 200, Loss: 28.040816028613037\n",
      "Iter: 205, Loss: 28.04081602861298\n",
      "Iter: 210, Loss: 28.040816028613264\n",
      "Iter: 215, Loss: 28.04081602861298\n",
      "Iter: 220, Loss: 28.04081602861332\n",
      "Iter: 225, Loss: 28.040816028613037\n",
      "Iter: 230, Loss: 28.04081602861332\n",
      "Iter: 235, Loss: 28.04081602861298\n",
      "Iter: 240, Loss: 28.040816028613207\n",
      "Iter: 245, Loss: 28.040816028612866\n",
      "Iter: 250, Loss: 28.040816028613207\n",
      "Iter: 255, Loss: 28.04081602861298\n",
      "Iter: 260, Loss: 28.040816028613037\n",
      "Iter: 265, Loss: 28.04081602861315\n",
      "Iter: 270, Loss: 28.04081602861298\n",
      "Iter: 275, Loss: 28.040816028613264\n",
      "Iter: 280, Loss: 28.04081602861298\n",
      "Iter: 285, Loss: 28.040816028613264\n",
      "Iter: 290, Loss: 28.04081602861298\n",
      "Iter: 295, Loss: 28.04081602861332\n",
      "Iter: 300, Loss: 28.040816028613037\n",
      "Iter: 305, Loss: 28.04081602861332\n",
      "Iter: 310, Loss: 28.04081602861298\n",
      "Iter: 315, Loss: 28.04081602861315\n",
      "Iter: 320, Loss: 28.040816028613037\n",
      "Iter: 325, Loss: 28.040816028613037\n",
      "Iter: 330, Loss: 28.04081602861315\n",
      "Iter: 335, Loss: 28.040816028613037\n",
      "Iter: 340, Loss: 28.04081602861315\n",
      "Iter: 345, Loss: 28.04081602861298\n",
      "Iter: 350, Loss: 28.040816028613264\n",
      "Iter: 355, Loss: 28.04081602861298\n",
      "Iter: 360, Loss: 28.040816028613264\n",
      "Iter: 365, Loss: 28.04081602861298\n",
      "Iter: 370, Loss: 28.040816028613207\n",
      "Iter: 375, Loss: 28.04081602861298\n",
      "Iter: 380, Loss: 28.04081602861315\n",
      "Iter: 385, Loss: 28.040816028613094\n",
      "Iter: 390, Loss: 28.04081602861315\n",
      "Iter: 395, Loss: 28.040816028613037\n",
      "Iter: 400, Loss: 28.040816028613037\n",
      "Iter: 405, Loss: 28.04081602861315\n",
      "Iter: 410, Loss: 28.040816028613037\n",
      "Iter: 415, Loss: 28.04081602861315\n",
      "Iter: 420, Loss: 28.04081602861298\n",
      "Iter: 425, Loss: 28.04081602861332\n",
      "Iter: 430, Loss: 28.04081602861298\n",
      "Iter: 435, Loss: 28.040816028613207\n",
      "Iter: 440, Loss: 28.040816028612866\n",
      "Iter: 445, Loss: 28.040816028613207\n",
      "Iter: 450, Loss: 28.04081602861298\n",
      "Iter: 455, Loss: 28.04081602861315\n",
      "Iter: 460, Loss: 28.040816028613094\n",
      "Iter: 465, Loss: 28.04081602861315\n",
      "Iter: 470, Loss: 28.040816028613037\n",
      "Iter: 475, Loss: 28.04081602861298\n",
      "Iter: 480, Loss: 28.040816028613264\n",
      "Iter: 485, Loss: 28.04081602861298\n",
      "Iter: 490, Loss: 28.04081602861332\n",
      "Iter: 495, Loss: 28.040816028613037\n"
     ]
    }
   ],
   "source": [
    "np.random.seed(10)\n",
    "beta = np.random.randn(18)\n",
    "loss_admm = ADMM(Xnp, Y, beta, lambd = 2, rho = 10, num_iter = 500, scale = True)[0]"
   ]
  },
  {
   "cell_type": "code",
   "execution_count": 24,
   "metadata": {},
   "outputs": [
    {
     "data": {
      "text/plain": [
       "Text(0, 0.5, 'Loss')"
      ]
     },
     "execution_count": 24,
     "metadata": {},
     "output_type": "execute_result"
    },
    {
     "data": {
      "image/png": "[encoded data removed]",
      "text/plain": [
       "<Figure size 432x288 with 1 Axes>"
      ]
     },
     "metadata": {
      "needs_background": "light"
     },
     "output_type": "display_data"
    }
   ],
   "source": [
    "plt.plot(np.arange(len(loss_admm)), loss_admm, 'r', label = 'ADMM')\n",
    "plt.plot(np.arange(len(loss_nest)), loss_nest, 'g', label = 'Nesterov')\n",
    "plt.plot(np.arange(len(loss_prox)), loss_prox, 'b', label = 'Proximal gradient')\n",
    "plt.legend(prop = {'size':12})\n",
    "plt.xlabel('Iteration')\n",
    "plt.ylabel('Loss')"
   ]
  },
  {
   "cell_type": "markdown",
   "metadata": {},
   "source": [
    "**Przewidywanie cen domów**"
   ]
  },
  {
   "cell_type": "code",
   "execution_count": 25,
   "metadata": {},
   "outputs": [],
   "source": [
    "from sklearn.model_selection import train_test_split\n",
    "\n",
    "X_train, X_test, Y_train, Y_test = train_test_split(Xnp, Y, train_size=0.8, random_state=10)"
   ]
  },
  {
   "cell_type": "code",
   "execution_count": 26,
   "metadata": {},
   "outputs": [
    {
     "data": {
      "text/plain": [
       "((17290, 18), (4323, 18), (17290,), (4323,))"
      ]
     },
     "execution_count": 26,
     "metadata": {},
     "output_type": "execute_result"
    }
   ],
   "source": [
    "X_train.shape, X_test.shape, Y_train.shape, Y_test.shape"
   ]
  },
  {
   "cell_type": "code",
   "execution_count": 27,
   "metadata": {},
   "outputs": [
    {
     "name": "stdout",
     "output_type": "stream",
     "text": [
      "Iter: 0, Loss: 149.00220051454042\n",
      "Iter: 5, Loss: 27.65845311440832\n",
      "Iter: 10, Loss: 27.898197971315504\n",
      "Iter: 15, Loss: 27.975525081543573\n",
      "Iter: 20, Loss: 27.971970376875948\n",
      "Iter: 25, Loss: 28.009043584166925\n",
      "Iter: 30, Loss: 28.023810907346405\n",
      "Iter: 35, Loss: 28.027214574352147\n",
      "Iter: 40, Loss: 28.028290295040204\n",
      "Iter: 45, Loss: 28.028022874155294\n"
     ]
    }
   ],
   "source": [
    "beta_admm = ADMM(X_train, Y_train, beta, lambd = 2, rho = 10, num_iter = 50, scale = True)[1]"
   ]
  },
  {
   "cell_type": "code",
   "execution_count": 28,
   "metadata": {},
   "outputs": [
    {
     "data": {
      "text/plain": [
       "array([ 1.30455129e+01, -9.43603287e-03,  5.02916984e-02,  1.26145232e-01,\n",
       "        1.80858117e-02,  3.35755699e-02,  3.37972080e-02,  4.21816895e-02,\n",
       "        4.49161592e-02,  1.91037886e-01, -8.70700176e-06,  3.95455152e-03,\n",
       "       -9.19532481e-02,  1.65844011e-02,  1.87294575e-01, -7.39379798e-03,\n",
       "        7.06778712e-02, -8.84447381e-03])"
      ]
     },
     "execution_count": 28,
     "metadata": {},
     "output_type": "execute_result"
    }
   ],
   "source": [
    "beta_admm"
   ]
  },
  {
   "cell_type": "markdown",
   "metadata": {},
   "source": [
    "Zlogarytmowane ceny domów:"
   ]
  },
  {
   "cell_type": "code",
   "execution_count": 29,
   "metadata": {},
   "outputs": [
    {
     "data": {
      "text/html": [
       "<div>\n",
       "<style scoped>\n",
       "    .dataframe tbody tr th:only-of-type {\n",
       "        vertical-align: middle;\n",
       "    }\n",
       "\n",
       "    .dataframe tbody tr th {\n",
       "        vertical-align: top;\n",
       "    }\n",
       "\n",
       "    .dataframe thead th {\n",
       "        text-align: right;\n",
       "    }\n",
       "</style>\n",
       "<table border=\"1\" class=\"dataframe\">\n",
       "  <thead>\n",
       "    <tr style=\"text-align: right;\">\n",
       "      <th></th>\n",
       "      <th>predicted</th>\n",
       "      <th>real</th>\n",
       "    </tr>\n",
       "  </thead>\n",
       "  <tbody>\n",
       "    <tr>\n",
       "      <th>0</th>\n",
       "      <td>12.651645</td>\n",
       "      <td>12.685408</td>\n",
       "    </tr>\n",
       "    <tr>\n",
       "      <th>1</th>\n",
       "      <td>13.165734</td>\n",
       "      <td>13.444447</td>\n",
       "    </tr>\n",
       "    <tr>\n",
       "      <th>2</th>\n",
       "      <td>11.324758</td>\n",
       "      <td>11.863582</td>\n",
       "    </tr>\n",
       "    <tr>\n",
       "      <th>3</th>\n",
       "      <td>13.021025</td>\n",
       "      <td>13.235692</td>\n",
       "    </tr>\n",
       "    <tr>\n",
       "      <th>4</th>\n",
       "      <td>12.997157</td>\n",
       "      <td>13.208541</td>\n",
       "    </tr>\n",
       "    <tr>\n",
       "      <th>5</th>\n",
       "      <td>12.323948</td>\n",
       "      <td>12.466512</td>\n",
       "    </tr>\n",
       "    <tr>\n",
       "      <th>6</th>\n",
       "      <td>13.116668</td>\n",
       "      <td>12.948010</td>\n",
       "    </tr>\n",
       "    <tr>\n",
       "      <th>7</th>\n",
       "      <td>12.700714</td>\n",
       "      <td>12.628067</td>\n",
       "    </tr>\n",
       "    <tr>\n",
       "      <th>8</th>\n",
       "      <td>12.761098</td>\n",
       "      <td>12.474190</td>\n",
       "    </tr>\n",
       "    <tr>\n",
       "      <th>9</th>\n",
       "      <td>13.982315</td>\n",
       "      <td>13.959611</td>\n",
       "    </tr>\n",
       "    <tr>\n",
       "      <th>10</th>\n",
       "      <td>13.588127</td>\n",
       "      <td>13.287878</td>\n",
       "    </tr>\n",
       "    <tr>\n",
       "      <th>11</th>\n",
       "      <td>12.907535</td>\n",
       "      <td>13.029371</td>\n",
       "    </tr>\n",
       "    <tr>\n",
       "      <th>12</th>\n",
       "      <td>14.390899</td>\n",
       "      <td>14.187074</td>\n",
       "    </tr>\n",
       "    <tr>\n",
       "      <th>13</th>\n",
       "      <td>13.385468</td>\n",
       "      <td>13.681979</td>\n",
       "    </tr>\n",
       "    <tr>\n",
       "      <th>14</th>\n",
       "      <td>13.573456</td>\n",
       "      <td>13.859527</td>\n",
       "    </tr>\n",
       "    <tr>\n",
       "      <th>15</th>\n",
       "      <td>13.399271</td>\n",
       "      <td>13.384651</td>\n",
       "    </tr>\n",
       "    <tr>\n",
       "      <th>16</th>\n",
       "      <td>13.343702</td>\n",
       "      <td>13.444447</td>\n",
       "    </tr>\n",
       "    <tr>\n",
       "      <th>17</th>\n",
       "      <td>12.428226</td>\n",
       "      <td>12.487296</td>\n",
       "    </tr>\n",
       "    <tr>\n",
       "      <th>18</th>\n",
       "      <td>13.397436</td>\n",
       "      <td>13.321214</td>\n",
       "    </tr>\n",
       "    <tr>\n",
       "      <th>19</th>\n",
       "      <td>12.714170</td>\n",
       "      <td>13.017003</td>\n",
       "    </tr>\n",
       "    <tr>\n",
       "      <th>20</th>\n",
       "      <td>12.884200</td>\n",
       "      <td>12.721886</td>\n",
       "    </tr>\n",
       "    <tr>\n",
       "      <th>21</th>\n",
       "      <td>12.551596</td>\n",
       "      <td>12.409013</td>\n",
       "    </tr>\n",
       "    <tr>\n",
       "      <th>22</th>\n",
       "      <td>12.956373</td>\n",
       "      <td>12.983101</td>\n",
       "    </tr>\n",
       "    <tr>\n",
       "      <th>23</th>\n",
       "      <td>12.619267</td>\n",
       "      <td>12.367341</td>\n",
       "    </tr>\n",
       "    <tr>\n",
       "      <th>24</th>\n",
       "      <td>13.910213</td>\n",
       "      <td>13.733758</td>\n",
       "    </tr>\n",
       "  </tbody>\n",
       "</table>\n",
       "</div>"
      ],
      "text/plain": [
       "    predicted       real\n",
       "0   12.651645  12.685408\n",
       "1   13.165734  13.444447\n",
       "2   11.324758  11.863582\n",
       "3   13.021025  13.235692\n",
       "4   12.997157  13.208541\n",
       "5   12.323948  12.466512\n",
       "6   13.116668  12.948010\n",
       "7   12.700714  12.628067\n",
       "8   12.761098  12.474190\n",
       "9   13.982315  13.959611\n",
       "10  13.588127  13.287878\n",
       "11  12.907535  13.029371\n",
       "12  14.390899  14.187074\n",
       "13  13.385468  13.681979\n",
       "14  13.573456  13.859527\n",
       "15  13.399271  13.384651\n",
       "16  13.343702  13.444447\n",
       "17  12.428226  12.487296\n",
       "18  13.397436  13.321214\n",
       "19  12.714170  13.017003\n",
       "20  12.884200  12.721886\n",
       "21  12.551596  12.409013\n",
       "22  12.956373  12.983101\n",
       "23  12.619267  12.367341\n",
       "24  13.910213  13.733758"
      ]
     },
     "execution_count": 29,
     "metadata": {},
     "output_type": "execute_result"
    }
   ],
   "source": [
    "log_prices = pd.DataFrame({'predicted': X_test @ beta_admm, 'real': Y_test})\n",
    "log_prices.head(25)"
   ]
  },
  {
   "cell_type": "markdown",
   "metadata": {},
   "source": [
    "Mean squared error:"
   ]
  },
  {
   "cell_type": "code",
   "execution_count": 30,
   "metadata": {},
   "outputs": [
    {
     "data": {
      "text/plain": [
       "0.06324551793557755"
      ]
     },
     "execution_count": 30,
     "metadata": {},
     "output_type": "execute_result"
    }
   ],
   "source": [
    "np.sum((log_prices['real'] - log_prices['predicted'])**2)/log_prices.shape[0]"
   ]
  },
  {
   "cell_type": "markdown",
   "metadata": {},
   "source": [
    "Faktyczne ceny domów:"
   ]
  },
  {
   "cell_type": "code",
   "execution_count": 31,
   "metadata": {},
   "outputs": [
    {
     "data": {
      "text/html": [
       "<div>\n",
       "<style scoped>\n",
       "    .dataframe tbody tr th:only-of-type {\n",
       "        vertical-align: middle;\n",
       "    }\n",
       "\n",
       "    .dataframe tbody tr th {\n",
       "        vertical-align: top;\n",
       "    }\n",
       "\n",
       "    .dataframe thead th {\n",
       "        text-align: right;\n",
       "    }\n",
       "</style>\n",
       "<table border=\"1\" class=\"dataframe\">\n",
       "  <thead>\n",
       "    <tr style=\"text-align: right;\">\n",
       "      <th></th>\n",
       "      <th>predicted</th>\n",
       "      <th>real</th>\n",
       "    </tr>\n",
       "  </thead>\n",
       "  <tbody>\n",
       "    <tr>\n",
       "      <th>0</th>\n",
       "      <td>312276.71</td>\n",
       "      <td>323000.0</td>\n",
       "    </tr>\n",
       "    <tr>\n",
       "      <th>1</th>\n",
       "      <td>522162.63</td>\n",
       "      <td>690000.0</td>\n",
       "    </tr>\n",
       "    <tr>\n",
       "      <th>2</th>\n",
       "      <td>82847.59</td>\n",
       "      <td>142000.0</td>\n",
       "    </tr>\n",
       "    <tr>\n",
       "      <th>3</th>\n",
       "      <td>451813.40</td>\n",
       "      <td>560000.0</td>\n",
       "    </tr>\n",
       "    <tr>\n",
       "      <th>4</th>\n",
       "      <td>441157.30</td>\n",
       "      <td>545000.0</td>\n",
       "    </tr>\n",
       "    <tr>\n",
       "      <th>5</th>\n",
       "      <td>225020.75</td>\n",
       "      <td>259500.0</td>\n",
       "    </tr>\n",
       "    <tr>\n",
       "      <th>6</th>\n",
       "      <td>497160.25</td>\n",
       "      <td>420000.0</td>\n",
       "    </tr>\n",
       "    <tr>\n",
       "      <th>7</th>\n",
       "      <td>327982.01</td>\n",
       "      <td>305000.0</td>\n",
       "    </tr>\n",
       "    <tr>\n",
       "      <th>8</th>\n",
       "      <td>348397.16</td>\n",
       "      <td>261500.0</td>\n",
       "    </tr>\n",
       "    <tr>\n",
       "      <th>9</th>\n",
       "      <td>1181523.53</td>\n",
       "      <td>1155000.0</td>\n",
       "    </tr>\n",
       "    <tr>\n",
       "      <th>10</th>\n",
       "      <td>796615.19</td>\n",
       "      <td>590000.0</td>\n",
       "    </tr>\n",
       "    <tr>\n",
       "      <th>11</th>\n",
       "      <td>403340.07</td>\n",
       "      <td>455600.0</td>\n",
       "    </tr>\n",
       "    <tr>\n",
       "      <th>12</th>\n",
       "      <td>1777820.61</td>\n",
       "      <td>1450000.0</td>\n",
       "    </tr>\n",
       "    <tr>\n",
       "      <th>13</th>\n",
       "      <td>650481.57</td>\n",
       "      <td>875000.0</td>\n",
       "    </tr>\n",
       "    <tr>\n",
       "      <th>14</th>\n",
       "      <td>785013.43</td>\n",
       "      <td>1045000.0</td>\n",
       "    </tr>\n",
       "    <tr>\n",
       "      <th>15</th>\n",
       "      <td>659522.02</td>\n",
       "      <td>649950.0</td>\n",
       "    </tr>\n",
       "    <tr>\n",
       "      <th>16</th>\n",
       "      <td>623873.09</td>\n",
       "      <td>690000.0</td>\n",
       "    </tr>\n",
       "    <tr>\n",
       "      <th>17</th>\n",
       "      <td>249752.50</td>\n",
       "      <td>264950.0</td>\n",
       "    </tr>\n",
       "    <tr>\n",
       "      <th>18</th>\n",
       "      <td>658312.84</td>\n",
       "      <td>610000.0</td>\n",
       "    </tr>\n",
       "    <tr>\n",
       "      <th>19</th>\n",
       "      <td>332425.16</td>\n",
       "      <td>450000.0</td>\n",
       "    </tr>\n",
       "    <tr>\n",
       "      <th>20</th>\n",
       "      <td>394036.97</td>\n",
       "      <td>335000.0</td>\n",
       "    </tr>\n",
       "    <tr>\n",
       "      <th>21</th>\n",
       "      <td>282545.94</td>\n",
       "      <td>245000.0</td>\n",
       "    </tr>\n",
       "    <tr>\n",
       "      <th>22</th>\n",
       "      <td>423527.11</td>\n",
       "      <td>435000.0</td>\n",
       "    </tr>\n",
       "    <tr>\n",
       "      <th>23</th>\n",
       "      <td>302327.76</td>\n",
       "      <td>235000.0</td>\n",
       "    </tr>\n",
       "    <tr>\n",
       "      <th>24</th>\n",
       "      <td>1099332.03</td>\n",
       "      <td>921500.0</td>\n",
       "    </tr>\n",
       "  </tbody>\n",
       "</table>\n",
       "</div>"
      ],
      "text/plain": [
       "     predicted       real\n",
       "0    312276.71   323000.0\n",
       "1    522162.63   690000.0\n",
       "2     82847.59   142000.0\n",
       "3    451813.40   560000.0\n",
       "4    441157.30   545000.0\n",
       "5    225020.75   259500.0\n",
       "6    497160.25   420000.0\n",
       "7    327982.01   305000.0\n",
       "8    348397.16   261500.0\n",
       "9   1181523.53  1155000.0\n",
       "10   796615.19   590000.0\n",
       "11   403340.07   455600.0\n",
       "12  1777820.61  1450000.0\n",
       "13   650481.57   875000.0\n",
       "14   785013.43  1045000.0\n",
       "15   659522.02   649950.0\n",
       "16   623873.09   690000.0\n",
       "17   249752.50   264950.0\n",
       "18   658312.84   610000.0\n",
       "19   332425.16   450000.0\n",
       "20   394036.97   335000.0\n",
       "21   282545.94   245000.0\n",
       "22   423527.11   435000.0\n",
       "23   302327.76   235000.0\n",
       "24  1099332.03   921500.0"
      ]
     },
     "execution_count": 31,
     "metadata": {},
     "output_type": "execute_result"
    }
   ],
   "source": [
    "pred_prices = np.exp(X_test @ beta_admm)\n",
    "round_pred_prices = [round(x,2) for x in pred_prices]\n",
    "prices = pd.DataFrame({'predicted': round_pred_prices, 'real': np.exp(Y_test)})\n",
    "prices.head(25)"
   ]
  },
  {
   "cell_type": "markdown",
   "metadata": {},
   "source": [
    "Mean squared error:"
   ]
  },
  {
   "cell_type": "code",
   "execution_count": 32,
   "metadata": {},
   "outputs": [
    {
     "data": {
      "text/plain": [
       "44029120266.37442"
      ]
     },
     "execution_count": 32,
     "metadata": {},
     "output_type": "execute_result"
    }
   ],
   "source": [
    "np.sum((prices['real'] - prices['predicted'])**2)/prices.shape[0]"
   ]
  }
 ],
 "metadata": {
  "kernelspec": {
   "display_name": "Python 3",
   "language": "python",
   "name": "python3"
  },
  "language_info": {
   "codemirror_mode": {
    "name": "ipython",
    "version": 3
   },
   "file_extension": ".py",
   "mimetype": "text/x-python",
   "name": "python",
   "nbconvert_exporter": "python",
   "pygments_lexer": "ipython3",
   "version": "3.7.3"
  }
 },
 "nbformat": 4,
 "nbformat_minor": 4
}
